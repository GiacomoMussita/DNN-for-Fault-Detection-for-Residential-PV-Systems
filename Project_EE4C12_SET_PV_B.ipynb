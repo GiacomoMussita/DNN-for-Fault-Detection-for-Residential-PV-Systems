{
 "cells": [
  {
   "cell_type": "code",
   "execution_count": 1,
   "id": "17e78e3f",
   "metadata": {
    "execution": {
     "iopub.execute_input": "2022-10-23T16:06:29.807929Z",
     "iopub.status.busy": "2022-10-23T16:06:29.806913Z",
     "iopub.status.idle": "2022-10-23T16:06:38.264425Z",
     "shell.execute_reply": "2022-10-23T16:06:38.262866Z"
    },
    "papermill": {
     "duration": 8.494148,
     "end_time": "2022-10-23T16:06:38.267694",
     "exception": false,
     "start_time": "2022-10-23T16:06:29.773546",
     "status": "completed"
    },
    "tags": []
   },
   "outputs": [],
   "source": [
    "# To guarantee repeatability with Keras\n",
    "seed_value = 4720\n",
    "\n",
    "# 1. Set the `PYTHONHASHSEED` environment variable at a fixed value\n",
    "import os\n",
    "os.environ['PYTHONHASHSEED']=str(seed_value)\n",
    "\n",
    "# 2. Set the `python` built-in pseudo-random generator at a fixed value\n",
    "import random\n",
    "random.seed(seed_value)\n",
    "\n",
    "# 3. Set the `numpy` pseudo-random generator at a fixed value\n",
    "import numpy as np\n",
    "np.random.seed(seed_value)\n",
    "\n",
    "# 4. Set the `tensorflow` pseudo-random generator at a fixed value\n",
    "import tensorflow as tf\n",
    "tf.random.set_seed(seed_value)\n",
    "# for later versions: \n",
    "# tf.compat.v1.set_random_seed(seed_value)\n",
    "\n",
    "# 5. Configure a new global `tensorflow` session\n",
    "from keras import backend as K\n",
    "session_conf = tf.compat.v1.ConfigProto(intra_op_parallelism_threads=1, inter_op_parallelism_threads=1)\n",
    "sess = tf.compat.v1.Session(graph=tf.compat.v1.get_default_graph(), config=session_conf)\n",
    "tf.compat.v1.keras.backend.set_session(sess)"
   ]
  },
  {
   "cell_type": "code",
   "execution_count": 2,
   "id": "2a38d8c9",
   "metadata": {
    "execution": {
     "iopub.execute_input": "2022-10-23T16:06:38.313616Z",
     "iopub.status.busy": "2022-10-23T16:06:38.312963Z",
     "iopub.status.idle": "2022-10-23T16:06:39.907701Z",
     "shell.execute_reply": "2022-10-23T16:06:39.906182Z"
    },
    "papermill": {
     "duration": 1.620225,
     "end_time": "2022-10-23T16:06:39.910634",
     "exception": false,
     "start_time": "2022-10-23T16:06:38.290409",
     "status": "completed"
    },
    "tags": []
   },
   "outputs": [],
   "source": [
    "# Libraries\n",
    "import numpy as np\n",
    "import pandas as pd\n",
    "import seaborn as sn\n",
    "import matplotlib.pyplot as plt\n",
    "from sklearn.model_selection import train_test_split\n",
    "from sklearn.metrics import accuracy_score, f1_score, precision_score, recall_score, roc_curve, plot_roc_curve, confusion_matrix, plot_confusion_matrix \n",
    "from sklearn.preprocessing import StandardScaler\n",
    "from sklearn.linear_model import LogisticRegression\n",
    "from sklearn.neural_network import MLPClassifier\n",
    "from sklearn.preprocessing import PolynomialFeatures\n",
    "from sklearn.svm import SVC\n",
    "from sklearn.ensemble import RandomForestClassifier\n",
    "from sklearn.ensemble import BaggingClassifier\n",
    "from sklearn.model_selection import StratifiedKFold\n",
    "from sklearn.model_selection import cross_val_score\n",
    "from keras.models import Sequential\n",
    "from keras.layers import Dense\n",
    "from keras.utils import np_utils\n",
    "from keras.layers import Dropout\n",
    "from keras import regularizers\n",
    "from keras.callbacks import EarlyStopping\n",
    "from tensorflow.random import set_seed"
   ]
  },
  {
   "cell_type": "markdown",
   "id": "4d4287a6",
   "metadata": {
    "papermill": {
     "duration": 0.021719,
     "end_time": "2022-10-23T16:06:39.953004",
     "exception": false,
     "start_time": "2022-10-23T16:06:39.931285",
     "status": "completed"
    },
    "tags": []
   },
   "source": [
    "# Data Pre-processing and Feature Preparation"
   ]
  },
  {
   "cell_type": "code",
   "execution_count": 3,
   "id": "08630353",
   "metadata": {
    "execution": {
     "iopub.execute_input": "2022-10-23T16:06:39.996988Z",
     "iopub.status.busy": "2022-10-23T16:06:39.996530Z",
     "iopub.status.idle": "2022-10-23T16:06:40.081954Z",
     "shell.execute_reply": "2022-10-23T16:06:40.080652Z"
    },
    "papermill": {
     "duration": 0.111109,
     "end_time": "2022-10-23T16:06:40.085444",
     "exception": false,
     "start_time": "2022-10-23T16:06:39.974335",
     "status": "completed"
    },
    "tags": []
   },
   "outputs": [
    {
     "data": {
      "text/html": [
       "<div>\n",
       "<style scoped>\n",
       "    .dataframe tbody tr th:only-of-type {\n",
       "        vertical-align: middle;\n",
       "    }\n",
       "\n",
       "    .dataframe tbody tr th {\n",
       "        vertical-align: top;\n",
       "    }\n",
       "\n",
       "    .dataframe thead th {\n",
       "        text-align: right;\n",
       "    }\n",
       "</style>\n",
       "<table border=\"1\" class=\"dataframe\">\n",
       "  <thead>\n",
       "    <tr style=\"text-align: right;\">\n",
       "      <th></th>\n",
       "      <th>Irradiance</th>\n",
       "      <th>Ambient_Temperature</th>\n",
       "      <th>Sun_Azimuth</th>\n",
       "      <th>Sun_Elevation</th>\n",
       "      <th>System_Power</th>\n",
       "      <th>System_Age</th>\n",
       "      <th>System_Status</th>\n",
       "      <th>Fault_Type</th>\n",
       "    </tr>\n",
       "  </thead>\n",
       "  <tbody>\n",
       "    <tr>\n",
       "      <th>0</th>\n",
       "      <td>713</td>\n",
       "      <td>3.8</td>\n",
       "      <td>-71.3</td>\n",
       "      <td>19.8</td>\n",
       "      <td>5000.000000</td>\n",
       "      <td>0.073277</td>\n",
       "      <td>0</td>\n",
       "      <td>0</td>\n",
       "    </tr>\n",
       "    <tr>\n",
       "      <th>1</th>\n",
       "      <td>152</td>\n",
       "      <td>2.7</td>\n",
       "      <td>-28.2</td>\n",
       "      <td>11.7</td>\n",
       "      <td>1290.467722</td>\n",
       "      <td>3.731482</td>\n",
       "      <td>0</td>\n",
       "      <td>0</td>\n",
       "    </tr>\n",
       "    <tr>\n",
       "      <th>2</th>\n",
       "      <td>75</td>\n",
       "      <td>4.5</td>\n",
       "      <td>-49.6</td>\n",
       "      <td>23.1</td>\n",
       "      <td>366.571466</td>\n",
       "      <td>0.236534</td>\n",
       "      <td>0</td>\n",
       "      <td>0</td>\n",
       "    </tr>\n",
       "    <tr>\n",
       "      <th>3</th>\n",
       "      <td>379</td>\n",
       "      <td>17.7</td>\n",
       "      <td>-46.3</td>\n",
       "      <td>45.3</td>\n",
       "      <td>2261.488687</td>\n",
       "      <td>1.720781</td>\n",
       "      <td>0</td>\n",
       "      <td>0</td>\n",
       "    </tr>\n",
       "    <tr>\n",
       "      <th>4</th>\n",
       "      <td>453</td>\n",
       "      <td>14.2</td>\n",
       "      <td>-107.2</td>\n",
       "      <td>15.9</td>\n",
       "      <td>2616.082381</td>\n",
       "      <td>0.674352</td>\n",
       "      <td>0</td>\n",
       "      <td>0</td>\n",
       "    </tr>\n",
       "    <tr>\n",
       "      <th>...</th>\n",
       "      <td>...</td>\n",
       "      <td>...</td>\n",
       "      <td>...</td>\n",
       "      <td>...</td>\n",
       "      <td>...</td>\n",
       "      <td>...</td>\n",
       "      <td>...</td>\n",
       "      <td>...</td>\n",
       "    </tr>\n",
       "    <tr>\n",
       "      <th>11995</th>\n",
       "      <td>62</td>\n",
       "      <td>10.2</td>\n",
       "      <td>-17.2</td>\n",
       "      <td>13.3</td>\n",
       "      <td>118.293683</td>\n",
       "      <td>13.476348</td>\n",
       "      <td>1</td>\n",
       "      <td>3</td>\n",
       "    </tr>\n",
       "    <tr>\n",
       "      <th>11996</th>\n",
       "      <td>114</td>\n",
       "      <td>14.8</td>\n",
       "      <td>-17.4</td>\n",
       "      <td>33.2</td>\n",
       "      <td>253.335320</td>\n",
       "      <td>4.542954</td>\n",
       "      <td>1</td>\n",
       "      <td>3</td>\n",
       "    </tr>\n",
       "    <tr>\n",
       "      <th>11997</th>\n",
       "      <td>144</td>\n",
       "      <td>6.1</td>\n",
       "      <td>41.2</td>\n",
       "      <td>6.4</td>\n",
       "      <td>526.328072</td>\n",
       "      <td>14.553955</td>\n",
       "      <td>1</td>\n",
       "      <td>3</td>\n",
       "    </tr>\n",
       "    <tr>\n",
       "      <th>11998</th>\n",
       "      <td>486</td>\n",
       "      <td>9.6</td>\n",
       "      <td>56.1</td>\n",
       "      <td>14.8</td>\n",
       "      <td>1707.208551</td>\n",
       "      <td>6.610661</td>\n",
       "      <td>1</td>\n",
       "      <td>3</td>\n",
       "    </tr>\n",
       "    <tr>\n",
       "      <th>11999</th>\n",
       "      <td>103</td>\n",
       "      <td>13.0</td>\n",
       "      <td>-29.1</td>\n",
       "      <td>18.9</td>\n",
       "      <td>201.616715</td>\n",
       "      <td>22.294729</td>\n",
       "      <td>1</td>\n",
       "      <td>3</td>\n",
       "    </tr>\n",
       "  </tbody>\n",
       "</table>\n",
       "<p>12000 rows × 8 columns</p>\n",
       "</div>"
      ],
      "text/plain": [
       "       Irradiance  Ambient_Temperature  Sun_Azimuth  Sun_Elevation  \\\n",
       "0             713                  3.8        -71.3           19.8   \n",
       "1             152                  2.7        -28.2           11.7   \n",
       "2              75                  4.5        -49.6           23.1   \n",
       "3             379                 17.7        -46.3           45.3   \n",
       "4             453                 14.2       -107.2           15.9   \n",
       "...           ...                  ...          ...            ...   \n",
       "11995          62                 10.2        -17.2           13.3   \n",
       "11996         114                 14.8        -17.4           33.2   \n",
       "11997         144                  6.1         41.2            6.4   \n",
       "11998         486                  9.6         56.1           14.8   \n",
       "11999         103                 13.0        -29.1           18.9   \n",
       "\n",
       "       System_Power  System_Age  System_Status  Fault_Type  \n",
       "0       5000.000000    0.073277              0           0  \n",
       "1       1290.467722    3.731482              0           0  \n",
       "2        366.571466    0.236534              0           0  \n",
       "3       2261.488687    1.720781              0           0  \n",
       "4       2616.082381    0.674352              0           0  \n",
       "...             ...         ...            ...         ...  \n",
       "11995    118.293683   13.476348              1           3  \n",
       "11996    253.335320    4.542954              1           3  \n",
       "11997    526.328072   14.553955              1           3  \n",
       "11998   1707.208551    6.610661              1           3  \n",
       "11999    201.616715   22.294729              1           3  \n",
       "\n",
       "[12000 rows x 8 columns]"
      ]
     },
     "execution_count": 3,
     "metadata": {},
     "output_type": "execute_result"
    }
   ],
   "source": [
    "# Import dataset\n",
    "data_orig = pd.read_csv('../input/project-data-ee4c12-set-pv/Project_Data_EE4C12_SET_PV.csv')\n",
    "data_orig"
   ]
  },
  {
   "cell_type": "code",
   "execution_count": 4,
   "id": "fc40b56d",
   "metadata": {
    "execution": {
     "iopub.execute_input": "2022-10-23T16:06:40.132926Z",
     "iopub.status.busy": "2022-10-23T16:06:40.132431Z",
     "iopub.status.idle": "2022-10-23T16:06:40.181358Z",
     "shell.execute_reply": "2022-10-23T16:06:40.179416Z"
    },
    "papermill": {
     "duration": 0.076763,
     "end_time": "2022-10-23T16:06:40.184407",
     "exception": false,
     "start_time": "2022-10-23T16:06:40.107644",
     "status": "completed"
    },
    "tags": []
   },
   "outputs": [
    {
     "data": {
      "text/html": [
       "<div>\n",
       "<style scoped>\n",
       "    .dataframe tbody tr th:only-of-type {\n",
       "        vertical-align: middle;\n",
       "    }\n",
       "\n",
       "    .dataframe tbody tr th {\n",
       "        vertical-align: top;\n",
       "    }\n",
       "\n",
       "    .dataframe thead th {\n",
       "        text-align: right;\n",
       "    }\n",
       "</style>\n",
       "<table border=\"1\" class=\"dataframe\">\n",
       "  <thead>\n",
       "    <tr style=\"text-align: right;\">\n",
       "      <th></th>\n",
       "      <th>Irradiance</th>\n",
       "      <th>Ambient_Temperature</th>\n",
       "      <th>Sun_Azimuth</th>\n",
       "      <th>Sun_Elevation</th>\n",
       "      <th>System_Power</th>\n",
       "      <th>System_Age</th>\n",
       "      <th>System_Status</th>\n",
       "      <th>Healthy</th>\n",
       "      <th>Short_Circuit</th>\n",
       "      <th>Broken_Cells</th>\n",
       "      <th>Broken_Strings</th>\n",
       "    </tr>\n",
       "  </thead>\n",
       "  <tbody>\n",
       "    <tr>\n",
       "      <th>0</th>\n",
       "      <td>713</td>\n",
       "      <td>3.8</td>\n",
       "      <td>-71.3</td>\n",
       "      <td>19.8</td>\n",
       "      <td>5000.000000</td>\n",
       "      <td>0.073277</td>\n",
       "      <td>0</td>\n",
       "      <td>1</td>\n",
       "      <td>0</td>\n",
       "      <td>0</td>\n",
       "      <td>0</td>\n",
       "    </tr>\n",
       "    <tr>\n",
       "      <th>1</th>\n",
       "      <td>152</td>\n",
       "      <td>2.7</td>\n",
       "      <td>-28.2</td>\n",
       "      <td>11.7</td>\n",
       "      <td>1290.467722</td>\n",
       "      <td>3.731482</td>\n",
       "      <td>0</td>\n",
       "      <td>1</td>\n",
       "      <td>0</td>\n",
       "      <td>0</td>\n",
       "      <td>0</td>\n",
       "    </tr>\n",
       "    <tr>\n",
       "      <th>2</th>\n",
       "      <td>75</td>\n",
       "      <td>4.5</td>\n",
       "      <td>-49.6</td>\n",
       "      <td>23.1</td>\n",
       "      <td>366.571466</td>\n",
       "      <td>0.236534</td>\n",
       "      <td>0</td>\n",
       "      <td>1</td>\n",
       "      <td>0</td>\n",
       "      <td>0</td>\n",
       "      <td>0</td>\n",
       "    </tr>\n",
       "    <tr>\n",
       "      <th>3</th>\n",
       "      <td>379</td>\n",
       "      <td>17.7</td>\n",
       "      <td>-46.3</td>\n",
       "      <td>45.3</td>\n",
       "      <td>2261.488687</td>\n",
       "      <td>1.720781</td>\n",
       "      <td>0</td>\n",
       "      <td>1</td>\n",
       "      <td>0</td>\n",
       "      <td>0</td>\n",
       "      <td>0</td>\n",
       "    </tr>\n",
       "    <tr>\n",
       "      <th>4</th>\n",
       "      <td>453</td>\n",
       "      <td>14.2</td>\n",
       "      <td>-107.2</td>\n",
       "      <td>15.9</td>\n",
       "      <td>2616.082381</td>\n",
       "      <td>0.674352</td>\n",
       "      <td>0</td>\n",
       "      <td>1</td>\n",
       "      <td>0</td>\n",
       "      <td>0</td>\n",
       "      <td>0</td>\n",
       "    </tr>\n",
       "    <tr>\n",
       "      <th>...</th>\n",
       "      <td>...</td>\n",
       "      <td>...</td>\n",
       "      <td>...</td>\n",
       "      <td>...</td>\n",
       "      <td>...</td>\n",
       "      <td>...</td>\n",
       "      <td>...</td>\n",
       "      <td>...</td>\n",
       "      <td>...</td>\n",
       "      <td>...</td>\n",
       "      <td>...</td>\n",
       "    </tr>\n",
       "    <tr>\n",
       "      <th>11995</th>\n",
       "      <td>62</td>\n",
       "      <td>10.2</td>\n",
       "      <td>-17.2</td>\n",
       "      <td>13.3</td>\n",
       "      <td>118.293683</td>\n",
       "      <td>13.476348</td>\n",
       "      <td>1</td>\n",
       "      <td>0</td>\n",
       "      <td>0</td>\n",
       "      <td>0</td>\n",
       "      <td>1</td>\n",
       "    </tr>\n",
       "    <tr>\n",
       "      <th>11996</th>\n",
       "      <td>114</td>\n",
       "      <td>14.8</td>\n",
       "      <td>-17.4</td>\n",
       "      <td>33.2</td>\n",
       "      <td>253.335320</td>\n",
       "      <td>4.542954</td>\n",
       "      <td>1</td>\n",
       "      <td>0</td>\n",
       "      <td>0</td>\n",
       "      <td>0</td>\n",
       "      <td>1</td>\n",
       "    </tr>\n",
       "    <tr>\n",
       "      <th>11997</th>\n",
       "      <td>144</td>\n",
       "      <td>6.1</td>\n",
       "      <td>41.2</td>\n",
       "      <td>6.4</td>\n",
       "      <td>526.328072</td>\n",
       "      <td>14.553955</td>\n",
       "      <td>1</td>\n",
       "      <td>0</td>\n",
       "      <td>0</td>\n",
       "      <td>0</td>\n",
       "      <td>1</td>\n",
       "    </tr>\n",
       "    <tr>\n",
       "      <th>11998</th>\n",
       "      <td>486</td>\n",
       "      <td>9.6</td>\n",
       "      <td>56.1</td>\n",
       "      <td>14.8</td>\n",
       "      <td>1707.208551</td>\n",
       "      <td>6.610661</td>\n",
       "      <td>1</td>\n",
       "      <td>0</td>\n",
       "      <td>0</td>\n",
       "      <td>0</td>\n",
       "      <td>1</td>\n",
       "    </tr>\n",
       "    <tr>\n",
       "      <th>11999</th>\n",
       "      <td>103</td>\n",
       "      <td>13.0</td>\n",
       "      <td>-29.1</td>\n",
       "      <td>18.9</td>\n",
       "      <td>201.616715</td>\n",
       "      <td>22.294729</td>\n",
       "      <td>1</td>\n",
       "      <td>0</td>\n",
       "      <td>0</td>\n",
       "      <td>0</td>\n",
       "      <td>1</td>\n",
       "    </tr>\n",
       "  </tbody>\n",
       "</table>\n",
       "<p>12000 rows × 11 columns</p>\n",
       "</div>"
      ],
      "text/plain": [
       "       Irradiance  Ambient_Temperature  Sun_Azimuth  Sun_Elevation  \\\n",
       "0             713                  3.8        -71.3           19.8   \n",
       "1             152                  2.7        -28.2           11.7   \n",
       "2              75                  4.5        -49.6           23.1   \n",
       "3             379                 17.7        -46.3           45.3   \n",
       "4             453                 14.2       -107.2           15.9   \n",
       "...           ...                  ...          ...            ...   \n",
       "11995          62                 10.2        -17.2           13.3   \n",
       "11996         114                 14.8        -17.4           33.2   \n",
       "11997         144                  6.1         41.2            6.4   \n",
       "11998         486                  9.6         56.1           14.8   \n",
       "11999         103                 13.0        -29.1           18.9   \n",
       "\n",
       "       System_Power  System_Age  System_Status  Healthy  Short_Circuit  \\\n",
       "0       5000.000000    0.073277              0        1              0   \n",
       "1       1290.467722    3.731482              0        1              0   \n",
       "2        366.571466    0.236534              0        1              0   \n",
       "3       2261.488687    1.720781              0        1              0   \n",
       "4       2616.082381    0.674352              0        1              0   \n",
       "...             ...         ...            ...      ...            ...   \n",
       "11995    118.293683   13.476348              1        0              0   \n",
       "11996    253.335320    4.542954              1        0              0   \n",
       "11997    526.328072   14.553955              1        0              0   \n",
       "11998   1707.208551    6.610661              1        0              0   \n",
       "11999    201.616715   22.294729              1        0              0   \n",
       "\n",
       "       Broken_Cells  Broken_Strings  \n",
       "0                 0               0  \n",
       "1                 0               0  \n",
       "2                 0               0  \n",
       "3                 0               0  \n",
       "4                 0               0  \n",
       "...             ...             ...  \n",
       "11995             0               1  \n",
       "11996             0               1  \n",
       "11997             0               1  \n",
       "11998             0               1  \n",
       "11999             0               1  \n",
       "\n",
       "[12000 rows x 11 columns]"
      ]
     },
     "execution_count": 4,
     "metadata": {},
     "output_type": "execute_result"
    }
   ],
   "source": [
    "# Dataset transformation using one-hot encoding for multi-class classification\n",
    "\n",
    "data = data_orig.drop('Fault_Type', axis=1) # remove the ordinary encoding column\n",
    "data['Healthy'] = np.where(data_orig['Fault_Type'] == 0, 1, 0)\n",
    "data['Short_Circuit'] = np.where(data_orig['Fault_Type'] == 1, 1, 0)\n",
    "data['Broken_Cells'] = np.where(data_orig['Fault_Type'] == 2, 1, 0)\n",
    "data['Broken_Strings'] = np.where(data_orig['Fault_Type'] == 3, 1, 0)\n",
    "data"
   ]
  },
  {
   "cell_type": "code",
   "execution_count": 5,
   "id": "b120a5eb",
   "metadata": {
    "execution": {
     "iopub.execute_input": "2022-10-23T16:06:40.231329Z",
     "iopub.status.busy": "2022-10-23T16:06:40.230904Z",
     "iopub.status.idle": "2022-10-23T16:06:40.240876Z",
     "shell.execute_reply": "2022-10-23T16:06:40.238288Z"
    },
    "papermill": {
     "duration": 0.037885,
     "end_time": "2022-10-23T16:06:40.244714",
     "exception": false,
     "start_time": "2022-10-23T16:06:40.206829",
     "status": "completed"
    },
    "tags": []
   },
   "outputs": [
    {
     "name": "stdout",
     "output_type": "stream",
     "text": [
      "Dataset dimention:  (12000, 11)\n",
      "Noo missing values\n"
     ]
    }
   ],
   "source": [
    "print('Dataset dimention: ', data.shape)\n",
    "if data.isnull().values.any():\n",
    "    print('Some values are missing')\n",
    "else:\n",
    "    print('Noo missing values')"
   ]
  },
  {
   "cell_type": "code",
   "execution_count": 6,
   "id": "7ebc55bb",
   "metadata": {
    "execution": {
     "iopub.execute_input": "2022-10-23T16:06:40.293537Z",
     "iopub.status.busy": "2022-10-23T16:06:40.293086Z",
     "iopub.status.idle": "2022-10-23T16:06:40.310534Z",
     "shell.execute_reply": "2022-10-23T16:06:40.309236Z"
    },
    "papermill": {
     "duration": 0.044076,
     "end_time": "2022-10-23T16:06:40.313532",
     "exception": false,
     "start_time": "2022-10-23T16:06:40.269456",
     "status": "completed"
    },
    "tags": []
   },
   "outputs": [],
   "source": [
    "# Training-testing sets split: from now on the testing set must not be part of any operation, in order to prevent data leak\n",
    "\n",
    "training_set, testing_set = train_test_split(data, test_size=0.15, random_state=seed_value)\n",
    "\n",
    "X_training = training_set[['Irradiance', 'Ambient_Temperature', 'Sun_Azimuth', 'Sun_Elevation', \n",
    "                              'System_Power', 'System_Age']]\n",
    "y_2c_training = training_set['System_Status']\n",
    "y_mc_training = training_set[['Healthy', 'Short_Circuit', 'Broken_Cells', 'Broken_Strings']]\n",
    "\n",
    "X_test = testing_set[['Irradiance', 'Ambient_Temperature', 'Sun_Azimuth', 'Sun_Elevation', \n",
    "                              'System_Power', 'System_Age']]\n",
    "y_2c_test = testing_set['System_Status']\n",
    "y_mc_test = testing_set[['Healthy', 'Short_Circuit', 'Broken_Cells', 'Broken_Strings']]\n"
   ]
  },
  {
   "cell_type": "code",
   "execution_count": 7,
   "id": "2c33065a",
   "metadata": {
    "execution": {
     "iopub.execute_input": "2022-10-23T16:06:40.359331Z",
     "iopub.status.busy": "2022-10-23T16:06:40.358912Z",
     "iopub.status.idle": "2022-10-23T16:06:40.365420Z",
     "shell.execute_reply": "2022-10-23T16:06:40.363809Z"
    },
    "papermill": {
     "duration": 0.032155,
     "end_time": "2022-10-23T16:06:40.368155",
     "exception": false,
     "start_time": "2022-10-23T16:06:40.336000",
     "status": "completed"
    },
    "tags": []
   },
   "outputs": [],
   "source": [
    "#training_set"
   ]
  },
  {
   "cell_type": "code",
   "execution_count": 8,
   "id": "d44370da",
   "metadata": {
    "execution": {
     "iopub.execute_input": "2022-10-23T16:06:40.416995Z",
     "iopub.status.busy": "2022-10-23T16:06:40.416582Z",
     "iopub.status.idle": "2022-10-23T16:06:40.422250Z",
     "shell.execute_reply": "2022-10-23T16:06:40.420526Z"
    },
    "papermill": {
     "duration": 0.033021,
     "end_time": "2022-10-23T16:06:40.424879",
     "exception": false,
     "start_time": "2022-10-23T16:06:40.391858",
     "status": "completed"
    },
    "tags": []
   },
   "outputs": [],
   "source": [
    "#testing_set"
   ]
  },
  {
   "cell_type": "code",
   "execution_count": 9,
   "id": "1a700f94",
   "metadata": {
    "execution": {
     "iopub.execute_input": "2022-10-23T16:06:40.473003Z",
     "iopub.status.busy": "2022-10-23T16:06:40.472536Z",
     "iopub.status.idle": "2022-10-23T16:06:40.806559Z",
     "shell.execute_reply": "2022-10-23T16:06:40.805561Z"
    },
    "papermill": {
     "duration": 0.36099,
     "end_time": "2022-10-23T16:06:40.809646",
     "exception": false,
     "start_time": "2022-10-23T16:06:40.448656",
     "status": "completed"
    },
    "tags": []
   },
   "outputs": [
    {
     "data": {
      "image/png": "[encoded data removed]",
      "text/plain": [
       "<Figure size 432x288 with 2 Axes>"
      ]
     },
     "metadata": {
      "needs_background": "light"
     },
     "output_type": "display_data"
    }
   ],
   "source": [
    "# Correlation matrix\n",
    "corr_matrix = X_training.corr()\n",
    "sn.heatmap(corr_matrix)\n",
    "plt.show()"
   ]
  },
  {
   "cell_type": "code",
   "execution_count": 10,
   "id": "739e9a05",
   "metadata": {
    "execution": {
     "iopub.execute_input": "2022-10-23T16:06:40.856508Z",
     "iopub.status.busy": "2022-10-23T16:06:40.855736Z",
     "iopub.status.idle": "2022-10-23T16:06:40.871348Z",
     "shell.execute_reply": "2022-10-23T16:06:40.870172Z"
    },
    "papermill": {
     "duration": 0.041612,
     "end_time": "2022-10-23T16:06:40.873948",
     "exception": false,
     "start_time": "2022-10-23T16:06:40.832336",
     "status": "completed"
    },
    "tags": []
   },
   "outputs": [
    {
     "data": {
      "text/html": [
       "<div>\n",
       "<style scoped>\n",
       "    .dataframe tbody tr th:only-of-type {\n",
       "        vertical-align: middle;\n",
       "    }\n",
       "\n",
       "    .dataframe tbody tr th {\n",
       "        vertical-align: top;\n",
       "    }\n",
       "\n",
       "    .dataframe thead th {\n",
       "        text-align: right;\n",
       "    }\n",
       "</style>\n",
       "<table border=\"1\" class=\"dataframe\">\n",
       "  <thead>\n",
       "    <tr style=\"text-align: right;\">\n",
       "      <th></th>\n",
       "      <th>Irradiance</th>\n",
       "      <th>Ambient_Temperature</th>\n",
       "      <th>Sun_Azimuth</th>\n",
       "      <th>Sun_Elevation</th>\n",
       "      <th>System_Power</th>\n",
       "      <th>System_Age</th>\n",
       "    </tr>\n",
       "  </thead>\n",
       "  <tbody>\n",
       "    <tr>\n",
       "      <th>Irradiance</th>\n",
       "      <td>1.000000</td>\n",
       "      <td>0.511216</td>\n",
       "      <td>-0.008649</td>\n",
       "      <td>0.399027</td>\n",
       "      <td>0.873820</td>\n",
       "      <td>-0.008066</td>\n",
       "    </tr>\n",
       "    <tr>\n",
       "      <th>Ambient_Temperature</th>\n",
       "      <td>0.511216</td>\n",
       "      <td>1.000000</td>\n",
       "      <td>0.230825</td>\n",
       "      <td>0.586162</td>\n",
       "      <td>0.349092</td>\n",
       "      <td>-0.007345</td>\n",
       "    </tr>\n",
       "    <tr>\n",
       "      <th>Sun_Azimuth</th>\n",
       "      <td>-0.008649</td>\n",
       "      <td>0.230825</td>\n",
       "      <td>1.000000</td>\n",
       "      <td>-0.010084</td>\n",
       "      <td>-0.002593</td>\n",
       "      <td>-0.009596</td>\n",
       "    </tr>\n",
       "    <tr>\n",
       "      <th>Sun_Elevation</th>\n",
       "      <td>0.399027</td>\n",
       "      <td>0.586162</td>\n",
       "      <td>-0.010084</td>\n",
       "      <td>1.000000</td>\n",
       "      <td>0.266748</td>\n",
       "      <td>0.003457</td>\n",
       "    </tr>\n",
       "    <tr>\n",
       "      <th>System_Power</th>\n",
       "      <td>0.873820</td>\n",
       "      <td>0.349092</td>\n",
       "      <td>-0.002593</td>\n",
       "      <td>0.266748</td>\n",
       "      <td>1.000000</td>\n",
       "      <td>-0.231275</td>\n",
       "    </tr>\n",
       "    <tr>\n",
       "      <th>System_Age</th>\n",
       "      <td>-0.008066</td>\n",
       "      <td>-0.007345</td>\n",
       "      <td>-0.009596</td>\n",
       "      <td>0.003457</td>\n",
       "      <td>-0.231275</td>\n",
       "      <td>1.000000</td>\n",
       "    </tr>\n",
       "  </tbody>\n",
       "</table>\n",
       "</div>"
      ],
      "text/plain": [
       "                     Irradiance  Ambient_Temperature  Sun_Azimuth  \\\n",
       "Irradiance             1.000000             0.511216    -0.008649   \n",
       "Ambient_Temperature    0.511216             1.000000     0.230825   \n",
       "Sun_Azimuth           -0.008649             0.230825     1.000000   \n",
       "Sun_Elevation          0.399027             0.586162    -0.010084   \n",
       "System_Power           0.873820             0.349092    -0.002593   \n",
       "System_Age            -0.008066            -0.007345    -0.009596   \n",
       "\n",
       "                     Sun_Elevation  System_Power  System_Age  \n",
       "Irradiance                0.399027      0.873820   -0.008066  \n",
       "Ambient_Temperature       0.586162      0.349092   -0.007345  \n",
       "Sun_Azimuth              -0.010084     -0.002593   -0.009596  \n",
       "Sun_Elevation             1.000000      0.266748    0.003457  \n",
       "System_Power              0.266748      1.000000   -0.231275  \n",
       "System_Age                0.003457     -0.231275    1.000000  "
      ]
     },
     "execution_count": 10,
     "metadata": {},
     "output_type": "execute_result"
    }
   ],
   "source": [
    "corr_matrix"
   ]
  },
  {
   "cell_type": "code",
   "execution_count": 11,
   "id": "7d0db4b9",
   "metadata": {
    "execution": {
     "iopub.execute_input": "2022-10-23T16:06:40.920813Z",
     "iopub.status.busy": "2022-10-23T16:06:40.919985Z",
     "iopub.status.idle": "2022-10-23T16:06:40.934181Z",
     "shell.execute_reply": "2022-10-23T16:06:40.932381Z"
    },
    "papermill": {
     "duration": 0.041136,
     "end_time": "2022-10-23T16:06:40.937137",
     "exception": false,
     "start_time": "2022-10-23T16:06:40.896001",
     "status": "completed"
    },
    "tags": []
   },
   "outputs": [],
   "source": [
    "# Scaling of the features\n",
    "\n",
    "scaler = StandardScaler()\n",
    "scaler.fit(X_training)\n",
    "X_training_scaled = scaler.transform(X_training)"
   ]
  },
  {
   "cell_type": "code",
   "execution_count": 12,
   "id": "a3a89551",
   "metadata": {
    "execution": {
     "iopub.execute_input": "2022-10-23T16:06:40.985952Z",
     "iopub.status.busy": "2022-10-23T16:06:40.985499Z",
     "iopub.status.idle": "2022-10-23T16:06:40.992919Z",
     "shell.execute_reply": "2022-10-23T16:06:40.991605Z"
    },
    "papermill": {
     "duration": 0.035838,
     "end_time": "2022-10-23T16:06:40.995551",
     "exception": false,
     "start_time": "2022-10-23T16:06:40.959713",
     "status": "completed"
    },
    "tags": []
   },
   "outputs": [],
   "source": [
    "# Split for binary classification\n",
    "\n",
    "X_train, X_val, y_train, y_val = train_test_split(X_training_scaled, y_2c_training, test_size=0.15, random_state=seed_value)"
   ]
  },
  {
   "cell_type": "code",
   "execution_count": 13,
   "id": "569b139c",
   "metadata": {
    "execution": {
     "iopub.execute_input": "2022-10-23T16:06:41.043508Z",
     "iopub.status.busy": "2022-10-23T16:06:41.043048Z",
     "iopub.status.idle": "2022-10-23T16:06:41.055825Z",
     "shell.execute_reply": "2022-10-23T16:06:41.054542Z"
    },
    "papermill": {
     "duration": 0.039872,
     "end_time": "2022-10-23T16:06:41.058630",
     "exception": false,
     "start_time": "2022-10-23T16:06:41.018758",
     "status": "completed"
    },
    "tags": []
   },
   "outputs": [],
   "source": [
    "# Polynomial features\n",
    "\n",
    "pol = PolynomialFeatures(degree=2)\n",
    "pol.fit(X_train)\n",
    "X_train_pol = pol.transform(X_train)\n",
    "X_val_pol = pol.transform(X_val)"
   ]
  },
  {
   "cell_type": "markdown",
   "id": "a1399d5d",
   "metadata": {
    "papermill": {
     "duration": 0.021854,
     "end_time": "2022-10-23T16:06:41.102728",
     "exception": false,
     "start_time": "2022-10-23T16:06:41.080874",
     "status": "completed"
    },
    "tags": []
   },
   "source": [
    "# Binary Classification"
   ]
  },
  {
   "cell_type": "markdown",
   "id": "6bf53a62",
   "metadata": {
    "papermill": {
     "duration": 0.021834,
     "end_time": "2022-10-23T16:06:41.147641",
     "exception": false,
     "start_time": "2022-10-23T16:06:41.125807",
     "status": "completed"
    },
    "tags": []
   },
   "source": [
    "## Logistic Regression"
   ]
  },
  {
   "cell_type": "code",
   "execution_count": 14,
   "id": "1ced9c65",
   "metadata": {
    "execution": {
     "iopub.execute_input": "2022-10-23T16:06:41.196356Z",
     "iopub.status.busy": "2022-10-23T16:06:41.195483Z",
     "iopub.status.idle": "2022-10-23T16:06:41.238237Z",
     "shell.execute_reply": "2022-10-23T16:06:41.236575Z"
    },
    "papermill": {
     "duration": 0.072222,
     "end_time": "2022-10-23T16:06:41.242997",
     "exception": false,
     "start_time": "2022-10-23T16:06:41.170775",
     "status": "completed"
    },
    "tags": []
   },
   "outputs": [],
   "source": [
    "# Logistic Regression with original features\n",
    "lr_lin = LogisticRegression(max_iter=1000)\n",
    "lr_lin.fit(X_train, y_train)\n",
    "y_pred = lr_lin.predict(X_val)"
   ]
  },
  {
   "cell_type": "code",
   "execution_count": 15,
   "id": "84b2a9ef",
   "metadata": {
    "execution": {
     "iopub.execute_input": "2022-10-23T16:06:41.359642Z",
     "iopub.status.busy": "2022-10-23T16:06:41.359207Z",
     "iopub.status.idle": "2022-10-23T16:06:41.379928Z",
     "shell.execute_reply": "2022-10-23T16:06:41.378321Z"
    },
    "papermill": {
     "duration": 0.082933,
     "end_time": "2022-10-23T16:06:41.385332",
     "exception": false,
     "start_time": "2022-10-23T16:06:41.302399",
     "status": "completed"
    },
    "tags": []
   },
   "outputs": [
    {
     "name": "stdout",
     "output_type": "stream",
     "text": [
      "Logistic Regression accuracy with original features: 0.6856\n",
      "Logistic Regression recall with original features: 0.6824\n",
      "Logistic Regression precision with original features: 0.6851\n",
      "Logistic Regression f1-score with original features: 0.6838\n",
      "Overfitting percentage: -1.13%\n"
     ]
    }
   ],
   "source": [
    "print(\"Logistic Regression accuracy with original features: {:.4f}\".format(accuracy_score(y_val, y_pred)))\n",
    "print(\"Logistic Regression recall with original features: {:.4f}\".format(recall_score(y_val, y_pred)))\n",
    "print(\"Logistic Regression precision with original features: {:.4f}\".format(precision_score(y_val, y_pred)))\n",
    "print(\"Logistic Regression f1-score with original features: {:.4f}\".format(f1_score(y_val, y_pred)))\n",
    "overfitting = (accuracy_score(y_train, lr_lin.predict(X_train))/accuracy_score(y_val, y_pred)) - 1\n",
    "print(\"Overfitting percentage: {:.2f}%\".format(overfitting*100))"
   ]
  },
  {
   "cell_type": "code",
   "execution_count": 16,
   "id": "a3ab8b2d",
   "metadata": {
    "execution": {
     "iopub.execute_input": "2022-10-23T16:06:41.500647Z",
     "iopub.status.busy": "2022-10-23T16:06:41.500180Z",
     "iopub.status.idle": "2022-10-23T16:06:41.707639Z",
     "shell.execute_reply": "2022-10-23T16:06:41.706464Z"
    },
    "papermill": {
     "duration": 0.262337,
     "end_time": "2022-10-23T16:06:41.710329",
     "exception": false,
     "start_time": "2022-10-23T16:06:41.447992",
     "status": "completed"
    },
    "tags": []
   },
   "outputs": [
    {
     "name": "stderr",
     "output_type": "stream",
     "text": [
      "/opt/conda/lib/python3.7/site-packages/sklearn/utils/deprecation.py:87: FutureWarning: Function plot_confusion_matrix is deprecated; Function `plot_confusion_matrix` is deprecated in 1.0 and will be removed in 1.2. Use one of the class methods: ConfusionMatrixDisplay.from_predictions or ConfusionMatrixDisplay.from_estimator.\n",
      "  warnings.warn(msg, category=FutureWarning)\n"
     ]
    },
    {
     "data": {
      "text/plain": [
       "<sklearn.metrics._plot.confusion_matrix.ConfusionMatrixDisplay at 0x7fa873b94c90>"
      ]
     },
     "execution_count": 16,
     "metadata": {},
     "output_type": "execute_result"
    },
    {
     "data": {
      "image/png": "[encoded data removed]",
      "text/plain": [
       "<Figure size 432x288 with 2 Axes>"
      ]
     },
     "metadata": {
      "needs_background": "light"
     },
     "output_type": "display_data"
    }
   ],
   "source": [
    "plot_confusion_matrix(lr_lin, X_val, y_val)"
   ]
  },
  {
   "cell_type": "code",
   "execution_count": 17,
   "id": "985d62ee",
   "metadata": {
    "execution": {
     "iopub.execute_input": "2022-10-23T16:06:41.770324Z",
     "iopub.status.busy": "2022-10-23T16:06:41.769434Z",
     "iopub.status.idle": "2022-10-23T16:06:42.372843Z",
     "shell.execute_reply": "2022-10-23T16:06:42.371057Z"
    },
    "papermill": {
     "duration": 0.633816,
     "end_time": "2022-10-23T16:06:42.377809",
     "exception": false,
     "start_time": "2022-10-23T16:06:41.743993",
     "status": "completed"
    },
    "tags": []
   },
   "outputs": [],
   "source": [
    "# Logistic Regression with polynomial features\n",
    "lr_pol = LogisticRegression(max_iter=1000)\n",
    "lr_pol.fit(X_train_pol, y_train)\n",
    "y_pred = lr_pol.predict(X_val_pol)"
   ]
  },
  {
   "cell_type": "code",
   "execution_count": 18,
   "id": "4c530565",
   "metadata": {
    "execution": {
     "iopub.execute_input": "2022-10-23T16:06:42.497888Z",
     "iopub.status.busy": "2022-10-23T16:06:42.497452Z",
     "iopub.status.idle": "2022-10-23T16:06:42.523870Z",
     "shell.execute_reply": "2022-10-23T16:06:42.520513Z"
    },
    "papermill": {
     "duration": 0.089432,
     "end_time": "2022-10-23T16:06:42.530092",
     "exception": false,
     "start_time": "2022-10-23T16:06:42.440660",
     "status": "completed"
    },
    "scrolled": true,
    "tags": []
   },
   "outputs": [
    {
     "name": "stdout",
     "output_type": "stream",
     "text": [
      "Logistic Regression accuracy with polynomial features: 0.7712\n",
      "Logistic Regression recall with polynomial features: 0.7113\n",
      "Logistic Regression precision with polynomial features: 0.8065\n",
      "Logistic Regression f1-score with polynomial features: 0.7559\n",
      "Overfitting percentage: -2.58%\n"
     ]
    }
   ],
   "source": [
    "print(\"Logistic Regression accuracy with polynomial features: {:.4f}\".format(accuracy_score(y_val, y_pred)))\n",
    "print(\"Logistic Regression recall with polynomial features: {:.4f}\".format(recall_score(y_val, y_pred)))\n",
    "print(\"Logistic Regression precision with polynomial features: {:.4f}\".format(precision_score(y_val, y_pred)))\n",
    "print(\"Logistic Regression f1-score with polynomial features: {:.4f}\".format(f1_score(y_val, y_pred)))\n",
    "overfitting = (accuracy_score(y_train, lr_pol.predict(X_train_pol))/accuracy_score(y_val, y_pred)) - 1\n",
    "print(\"Overfitting percentage: {:.2f}%\".format(overfitting*100))"
   ]
  },
  {
   "cell_type": "code",
   "execution_count": 19,
   "id": "19e338e1",
   "metadata": {
    "execution": {
     "iopub.execute_input": "2022-10-23T16:06:42.643802Z",
     "iopub.status.busy": "2022-10-23T16:06:42.643247Z",
     "iopub.status.idle": "2022-10-23T16:06:42.908501Z",
     "shell.execute_reply": "2022-10-23T16:06:42.907496Z"
    },
    "papermill": {
     "duration": 0.315394,
     "end_time": "2022-10-23T16:06:42.911174",
     "exception": false,
     "start_time": "2022-10-23T16:06:42.595780",
     "status": "completed"
    },
    "tags": []
   },
   "outputs": [
    {
     "name": "stderr",
     "output_type": "stream",
     "text": [
      "/opt/conda/lib/python3.7/site-packages/sklearn/utils/deprecation.py:87: FutureWarning: Function plot_confusion_matrix is deprecated; Function `plot_confusion_matrix` is deprecated in 1.0 and will be removed in 1.2. Use one of the class methods: ConfusionMatrixDisplay.from_predictions or ConfusionMatrixDisplay.from_estimator.\n",
      "  warnings.warn(msg, category=FutureWarning)\n"
     ]
    },
    {
     "data": {
      "text/plain": [
       "<sklearn.metrics._plot.confusion_matrix.ConfusionMatrixDisplay at 0x7fa873a9b6d0>"
      ]
     },
     "execution_count": 19,
     "metadata": {},
     "output_type": "execute_result"
    },
    {
     "data": {
      "image/png": "[encoded data removed]",
      "text/plain": [
       "<Figure size 432x288 with 2 Axes>"
      ]
     },
     "metadata": {
      "needs_background": "light"
     },
     "output_type": "display_data"
    }
   ],
   "source": [
    "plot_confusion_matrix(lr_pol, X_val_pol, y_val)"
   ]
  },
  {
   "cell_type": "markdown",
   "id": "ebd6486f",
   "metadata": {
    "papermill": {
     "duration": 0.022909,
     "end_time": "2022-10-23T16:06:42.958869",
     "exception": false,
     "start_time": "2022-10-23T16:06:42.935960",
     "status": "completed"
    },
    "tags": []
   },
   "source": [
    "## SVC"
   ]
  },
  {
   "cell_type": "code",
   "execution_count": 20,
   "id": "48b48486",
   "metadata": {
    "execution": {
     "iopub.execute_input": "2022-10-23T16:06:43.009066Z",
     "iopub.status.busy": "2022-10-23T16:06:43.008228Z",
     "iopub.status.idle": "2022-10-23T16:06:47.166985Z",
     "shell.execute_reply": "2022-10-23T16:06:47.165668Z"
    },
    "papermill": {
     "duration": 4.188485,
     "end_time": "2022-10-23T16:06:47.170404",
     "exception": false,
     "start_time": "2022-10-23T16:06:42.981919",
     "status": "completed"
    },
    "tags": []
   },
   "outputs": [],
   "source": [
    "# Linear SVC with original features\n",
    "svm_lin1 = SVC(kernel='linear')\n",
    "svm_lin1.fit(X_train, y_train)\n",
    "y_pred = svm_lin1.predict(X_val)"
   ]
  },
  {
   "cell_type": "code",
   "execution_count": 21,
   "id": "b30d8815",
   "metadata": {
    "execution": {
     "iopub.execute_input": "2022-10-23T16:06:47.220952Z",
     "iopub.status.busy": "2022-10-23T16:06:47.220236Z",
     "iopub.status.idle": "2022-10-23T16:06:48.628417Z",
     "shell.execute_reply": "2022-10-23T16:06:48.627252Z"
    },
    "papermill": {
     "duration": 1.437238,
     "end_time": "2022-10-23T16:06:48.631987",
     "exception": false,
     "start_time": "2022-10-23T16:06:47.194749",
     "status": "completed"
    },
    "tags": []
   },
   "outputs": [
    {
     "name": "stdout",
     "output_type": "stream",
     "text": [
      "Linear SVM accuracy with original features: 0.6915\n",
      "Linear SVM recall with original features: 0.6601\n",
      "Linear SVM precision with original features: 0.7025\n",
      "Linear SVM f1-score with original features: 0.6806\n",
      "Overfitting percentage: -2.26%\n"
     ]
    }
   ],
   "source": [
    "print(\"Linear SVM accuracy with original features: {:.4f}\".format(accuracy_score(y_val, y_pred)))\n",
    "print(\"Linear SVM recall with original features: {:.4f}\".format(recall_score(y_val, y_pred)))\n",
    "print(\"Linear SVM precision with original features: {:.4f}\".format(precision_score(y_val, y_pred)))\n",
    "print(\"Linear SVM f1-score with original features: {:.4f}\".format(f1_score(y_val, y_pred)))\n",
    "overfitting = (accuracy_score(y_train, svm_lin1.predict(X_train))/accuracy_score(y_val, y_pred)) - 1\n",
    "print(\"Overfitting percentage: {:.2f}%\".format(overfitting*100))"
   ]
  },
  {
   "cell_type": "code",
   "execution_count": 22,
   "id": "dd347bb6",
   "metadata": {
    "execution": {
     "iopub.execute_input": "2022-10-23T16:06:48.683895Z",
     "iopub.status.busy": "2022-10-23T16:06:48.683455Z",
     "iopub.status.idle": "2022-10-23T16:06:49.130920Z",
     "shell.execute_reply": "2022-10-23T16:06:49.130038Z"
    },
    "papermill": {
     "duration": 0.476624,
     "end_time": "2022-10-23T16:06:49.133604",
     "exception": false,
     "start_time": "2022-10-23T16:06:48.656980",
     "status": "completed"
    },
    "tags": []
   },
   "outputs": [
    {
     "name": "stderr",
     "output_type": "stream",
     "text": [
      "/opt/conda/lib/python3.7/site-packages/sklearn/utils/deprecation.py:87: FutureWarning: Function plot_confusion_matrix is deprecated; Function `plot_confusion_matrix` is deprecated in 1.0 and will be removed in 1.2. Use one of the class methods: ConfusionMatrixDisplay.from_predictions or ConfusionMatrixDisplay.from_estimator.\n",
      "  warnings.warn(msg, category=FutureWarning)\n"
     ]
    },
    {
     "data": {
      "text/plain": [
       "<sklearn.metrics._plot.confusion_matrix.ConfusionMatrixDisplay at 0x7fa873bcc810>"
      ]
     },
     "execution_count": 22,
     "metadata": {},
     "output_type": "execute_result"
    },
    {
     "data": {
      "image/png": "[encoded data removed]",
      "text/plain": [
       "<Figure size 432x288 with 2 Axes>"
      ]
     },
     "metadata": {
      "needs_background": "light"
     },
     "output_type": "display_data"
    }
   ],
   "source": [
    "plot_confusion_matrix(svm_lin1, X_val, y_val)"
   ]
  },
  {
   "cell_type": "code",
   "execution_count": 23,
   "id": "76da912d",
   "metadata": {
    "execution": {
     "iopub.execute_input": "2022-10-23T16:06:49.183506Z",
     "iopub.status.busy": "2022-10-23T16:06:49.182699Z",
     "iopub.status.idle": "2022-10-23T16:06:54.592190Z",
     "shell.execute_reply": "2022-10-23T16:06:54.590716Z"
    },
    "papermill": {
     "duration": 5.437791,
     "end_time": "2022-10-23T16:06:54.595094",
     "exception": false,
     "start_time": "2022-10-23T16:06:49.157303",
     "status": "completed"
    },
    "tags": []
   },
   "outputs": [],
   "source": [
    "# Linear SVC with polynomial features\n",
    "svm_lin2 = SVC(kernel='linear')\n",
    "svm_lin2.fit(X_train_pol, y_train)\n",
    "y_pred = svm_lin2.predict(X_val_pol)"
   ]
  },
  {
   "cell_type": "code",
   "execution_count": 24,
   "id": "f23f0afb",
   "metadata": {
    "execution": {
     "iopub.execute_input": "2022-10-23T16:06:54.647171Z",
     "iopub.status.busy": "2022-10-23T16:06:54.646747Z",
     "iopub.status.idle": "2022-10-23T16:06:56.465727Z",
     "shell.execute_reply": "2022-10-23T16:06:56.464333Z"
    },
    "papermill": {
     "duration": 1.849255,
     "end_time": "2022-10-23T16:06:56.468471",
     "exception": false,
     "start_time": "2022-10-23T16:06:54.619216",
     "status": "completed"
    },
    "tags": []
   },
   "outputs": [
    {
     "name": "stdout",
     "output_type": "stream",
     "text": [
      "Linear SVM accuracy with polynomial features: 0.7634\n",
      "Linear SVM recall with polynomial features: 0.6614\n",
      "Linear SVM precision with polynomial features: 0.8289\n",
      "Linear SVM f1-score with polynomial features: 0.7358\n",
      "Overfitting percentage: -0.71%\n"
     ]
    }
   ],
   "source": [
    "print(\"Linear SVM accuracy with polynomial features: {:.4f}\".format(accuracy_score(y_val, y_pred)))\n",
    "print(\"Linear SVM recall with polynomial features: {:.4f}\".format(recall_score(y_val, y_pred)))\n",
    "print(\"Linear SVM precision with polynomial features: {:.4f}\".format(precision_score(y_val, y_pred)))\n",
    "print(\"Linear SVM f1-score with polynomial features: {:.4f}\".format(f1_score(y_val, y_pred)))\n",
    "overfitting = (accuracy_score(y_train, svm_lin2.predict(X_train_pol))/accuracy_score(y_val, y_pred)) - 1\n",
    "print(\"Overfitting percentage: {:.2f}%\".format(overfitting*100))"
   ]
  },
  {
   "cell_type": "code",
   "execution_count": 25,
   "id": "6f1df334",
   "metadata": {
    "execution": {
     "iopub.execute_input": "2022-10-23T16:06:56.519517Z",
     "iopub.status.busy": "2022-10-23T16:06:56.519123Z",
     "iopub.status.idle": "2022-10-23T16:06:57.025742Z",
     "shell.execute_reply": "2022-10-23T16:06:57.024831Z"
    },
    "papermill": {
     "duration": 0.535869,
     "end_time": "2022-10-23T16:06:57.028195",
     "exception": false,
     "start_time": "2022-10-23T16:06:56.492326",
     "status": "completed"
    },
    "tags": []
   },
   "outputs": [
    {
     "name": "stderr",
     "output_type": "stream",
     "text": [
      "/opt/conda/lib/python3.7/site-packages/sklearn/utils/deprecation.py:87: FutureWarning: Function plot_confusion_matrix is deprecated; Function `plot_confusion_matrix` is deprecated in 1.0 and will be removed in 1.2. Use one of the class methods: ConfusionMatrixDisplay.from_predictions or ConfusionMatrixDisplay.from_estimator.\n",
      "  warnings.warn(msg, category=FutureWarning)\n"
     ]
    },
    {
     "data": {
      "text/plain": [
       "<sklearn.metrics._plot.confusion_matrix.ConfusionMatrixDisplay at 0x7fa87395a810>"
      ]
     },
     "execution_count": 25,
     "metadata": {},
     "output_type": "execute_result"
    },
    {
     "data": {
      "image/png": "[encoded data removed]",
      "text/plain": [
       "<Figure size 432x288 with 2 Axes>"
      ]
     },
     "metadata": {
      "needs_background": "light"
     },
     "output_type": "display_data"
    }
   ],
   "source": [
    "plot_confusion_matrix(svm_lin2, X_val_pol, y_val)"
   ]
  },
  {
   "cell_type": "code",
   "execution_count": 26,
   "id": "c6fa162d",
   "metadata": {
    "execution": {
     "iopub.execute_input": "2022-10-23T16:06:57.080344Z",
     "iopub.status.busy": "2022-10-23T16:06:57.079694Z",
     "iopub.status.idle": "2022-10-23T16:07:00.482412Z",
     "shell.execute_reply": "2022-10-23T16:07:00.480948Z"
    },
    "papermill": {
     "duration": 3.432148,
     "end_time": "2022-10-23T16:07:00.485305",
     "exception": false,
     "start_time": "2022-10-23T16:06:57.053157",
     "status": "completed"
    },
    "tags": []
   },
   "outputs": [],
   "source": [
    "# Gaussian SVC with original features\n",
    "svm_gauss1 = SVC(kernel='rbf')\n",
    "svm_gauss1.fit(X_train, y_train)\n",
    "y_pred = svm_gauss1.predict(X_val)"
   ]
  },
  {
   "cell_type": "code",
   "execution_count": 27,
   "id": "6add51d8",
   "metadata": {
    "execution": {
     "iopub.execute_input": "2022-10-23T16:07:00.536097Z",
     "iopub.status.busy": "2022-10-23T16:07:00.535577Z",
     "iopub.status.idle": "2022-10-23T16:07:03.292626Z",
     "shell.execute_reply": "2022-10-23T16:07:03.291070Z"
    },
    "papermill": {
     "duration": 2.787865,
     "end_time": "2022-10-23T16:07:03.297358",
     "exception": false,
     "start_time": "2022-10-23T16:07:00.509493",
     "status": "completed"
    },
    "tags": []
   },
   "outputs": [
    {
     "name": "stdout",
     "output_type": "stream",
     "text": [
      "Gaussian SVM accuracy with original features: 0.7542\n",
      "Gaussian SVM recall with original features: 0.6194\n",
      "Gaussian SVM precision with original features: 0.8459\n",
      "Gaussian SVM f1-score with original features: 0.7152\n",
      "Overfitting percentage: 0.13%\n"
     ]
    }
   ],
   "source": [
    "print(\"Gaussian SVM accuracy with original features: {:.4f}\".format(accuracy_score(y_val, y_pred)))\n",
    "print(\"Gaussian SVM recall with original features: {:.4f}\".format(recall_score(y_val, y_pred)))\n",
    "print(\"Gaussian SVM precision with original features: {:.4f}\".format(precision_score(y_val, y_pred)))\n",
    "print(\"Gaussian SVM f1-score with original features: {:.4f}\".format(f1_score(y_val, y_pred)))\n",
    "overfitting = (accuracy_score(y_train, svm_gauss1.predict(X_train))/accuracy_score(y_val, y_pred)) - 1\n",
    "print(\"Overfitting percentage: {:.2f}%\".format(overfitting*100))"
   ]
  },
  {
   "cell_type": "code",
   "execution_count": 28,
   "id": "3ea8a3cc",
   "metadata": {
    "execution": {
     "iopub.execute_input": "2022-10-23T16:07:03.353184Z",
     "iopub.status.busy": "2022-10-23T16:07:03.352647Z",
     "iopub.status.idle": "2022-10-23T16:07:04.107368Z",
     "shell.execute_reply": "2022-10-23T16:07:04.105647Z"
    },
    "papermill": {
     "duration": 0.784461,
     "end_time": "2022-10-23T16:07:04.110071",
     "exception": false,
     "start_time": "2022-10-23T16:07:03.325610",
     "status": "completed"
    },
    "tags": []
   },
   "outputs": [
    {
     "name": "stderr",
     "output_type": "stream",
     "text": [
      "/opt/conda/lib/python3.7/site-packages/sklearn/utils/deprecation.py:87: FutureWarning: Function plot_confusion_matrix is deprecated; Function `plot_confusion_matrix` is deprecated in 1.0 and will be removed in 1.2. Use one of the class methods: ConfusionMatrixDisplay.from_predictions or ConfusionMatrixDisplay.from_estimator.\n",
      "  warnings.warn(msg, category=FutureWarning)\n"
     ]
    },
    {
     "data": {
      "text/plain": [
       "<sklearn.metrics._plot.confusion_matrix.ConfusionMatrixDisplay at 0x7fa8737e8a50>"
      ]
     },
     "execution_count": 28,
     "metadata": {},
     "output_type": "execute_result"
    },
    {
     "data": {
      "image/png": "[encoded data removed]",
      "text/plain": [
       "<Figure size 432x288 with 2 Axes>"
      ]
     },
     "metadata": {
      "needs_background": "light"
     },
     "output_type": "display_data"
    }
   ],
   "source": [
    "plot_confusion_matrix(svm_gauss1, X_val, y_val)"
   ]
  },
  {
   "cell_type": "code",
   "execution_count": 29,
   "id": "7ec958bc",
   "metadata": {
    "execution": {
     "iopub.execute_input": "2022-10-23T16:07:04.165700Z",
     "iopub.status.busy": "2022-10-23T16:07:04.164401Z",
     "iopub.status.idle": "2022-10-23T16:07:09.427907Z",
     "shell.execute_reply": "2022-10-23T16:07:09.426489Z"
    },
    "papermill": {
     "duration": 5.29421,
     "end_time": "2022-10-23T16:07:09.430835",
     "exception": false,
     "start_time": "2022-10-23T16:07:04.136625",
     "status": "completed"
    },
    "tags": []
   },
   "outputs": [],
   "source": [
    "# Gaussian SVC with polynomial features\n",
    "svm_gauss2 = SVC(kernel='rbf')\n",
    "svm_gauss2.fit(X_train_pol, y_train)\n",
    "y_pred = svm_gauss2.predict(X_val_pol)"
   ]
  },
  {
   "cell_type": "code",
   "execution_count": 30,
   "id": "467b0a9e",
   "metadata": {
    "execution": {
     "iopub.execute_input": "2022-10-23T16:07:09.482098Z",
     "iopub.status.busy": "2022-10-23T16:07:09.481668Z",
     "iopub.status.idle": "2022-10-23T16:07:14.065712Z",
     "shell.execute_reply": "2022-10-23T16:07:14.063713Z"
    },
    "papermill": {
     "duration": 4.614011,
     "end_time": "2022-10-23T16:07:14.069797",
     "exception": false,
     "start_time": "2022-10-23T16:07:09.455786",
     "status": "completed"
    },
    "tags": []
   },
   "outputs": [
    {
     "name": "stdout",
     "output_type": "stream",
     "text": [
      "Gaussian SVM accuracy with polynomial features: 0.7471\n",
      "Gaussian SVM recall with polynomial features: 0.5958\n",
      "Gaussian SVM precision with polynomial features: 0.8518\n",
      "Gaussian SVM f1-score with polynomial features: 0.7012\n",
      "Overfitting percentage: 1.25%\n"
     ]
    }
   ],
   "source": [
    "print(\"Gaussian SVM accuracy with polynomial features: {:.4f}\".format(accuracy_score(y_val, y_pred)))\n",
    "print(\"Gaussian SVM recall with polynomial features: {:.4f}\".format(recall_score(y_val, y_pred)))\n",
    "print(\"Gaussian SVM precision with polynomial features: {:.4f}\".format(precision_score(y_val, y_pred)))\n",
    "print(\"Gaussian SVM f1-score with polynomial features: {:.4f}\".format(f1_score(y_val, y_pred)))\n",
    "overfitting = (accuracy_score(y_train, svm_gauss2.predict(X_train_pol))/accuracy_score(y_val, y_pred)) - 1\n",
    "print(\"Overfitting percentage: {:.2f}%\".format(overfitting*100))"
   ]
  },
  {
   "cell_type": "code",
   "execution_count": 31,
   "id": "3406b7d2",
   "metadata": {
    "execution": {
     "iopub.execute_input": "2022-10-23T16:07:14.127956Z",
     "iopub.status.busy": "2022-10-23T16:07:14.127510Z",
     "iopub.status.idle": "2022-10-23T16:07:15.209841Z",
     "shell.execute_reply": "2022-10-23T16:07:15.208523Z"
    },
    "papermill": {
     "duration": 1.112792,
     "end_time": "2022-10-23T16:07:15.212899",
     "exception": false,
     "start_time": "2022-10-23T16:07:14.100107",
     "status": "completed"
    },
    "tags": []
   },
   "outputs": [
    {
     "name": "stderr",
     "output_type": "stream",
     "text": [
      "/opt/conda/lib/python3.7/site-packages/sklearn/utils/deprecation.py:87: FutureWarning: Function plot_confusion_matrix is deprecated; Function `plot_confusion_matrix` is deprecated in 1.0 and will be removed in 1.2. Use one of the class methods: ConfusionMatrixDisplay.from_predictions or ConfusionMatrixDisplay.from_estimator.\n",
      "  warnings.warn(msg, category=FutureWarning)\n"
     ]
    },
    {
     "data": {
      "text/plain": [
       "<sklearn.metrics._plot.confusion_matrix.ConfusionMatrixDisplay at 0x7fa873858dd0>"
      ]
     },
     "execution_count": 31,
     "metadata": {},
     "output_type": "execute_result"
    },
    {
     "data": {
      "image/png": "[encoded data removed]",
      "text/plain": [
       "<Figure size 432x288 with 2 Axes>"
      ]
     },
     "metadata": {
      "needs_background": "light"
     },
     "output_type": "display_data"
    }
   ],
   "source": [
    "plot_confusion_matrix(svm_gauss2, X_val_pol, y_val)"
   ]
  },
  {
   "cell_type": "markdown",
   "id": "44d85631",
   "metadata": {
    "papermill": {
     "duration": 0.027195,
     "end_time": "2022-10-23T16:07:15.267520",
     "exception": false,
     "start_time": "2022-10-23T16:07:15.240325",
     "status": "completed"
    },
    "tags": []
   },
   "source": [
    "## Weighted SVC"
   ]
  },
  {
   "cell_type": "code",
   "execution_count": 32,
   "id": "f622a1dc",
   "metadata": {
    "execution": {
     "iopub.execute_input": "2022-10-23T16:07:15.323987Z",
     "iopub.status.busy": "2022-10-23T16:07:15.323211Z",
     "iopub.status.idle": "2022-10-23T16:07:19.519720Z",
     "shell.execute_reply": "2022-10-23T16:07:19.518031Z"
    },
    "papermill": {
     "duration": 4.227236,
     "end_time": "2022-10-23T16:07:19.522566",
     "exception": false,
     "start_time": "2022-10-23T16:07:15.295330",
     "status": "completed"
    },
    "tags": []
   },
   "outputs": [],
   "source": [
    "# Weighted Linear SVC with original features\n",
    "weights = {0: 0.98, 1: 1.02}\n",
    "svm_lin1_w = SVC(kernel='linear', class_weight=weights)\n",
    "svm_lin1_w.fit(X_train, y_train)\n",
    "y_pred = svm_lin1_w.predict(X_val)"
   ]
  },
  {
   "cell_type": "code",
   "execution_count": 33,
   "id": "1a0b7a9a",
   "metadata": {
    "execution": {
     "iopub.execute_input": "2022-10-23T16:07:19.577183Z",
     "iopub.status.busy": "2022-10-23T16:07:19.576375Z",
     "iopub.status.idle": "2022-10-23T16:07:20.993689Z",
     "shell.execute_reply": "2022-10-23T16:07:20.991802Z"
    },
    "papermill": {
     "duration": 1.446737,
     "end_time": "2022-10-23T16:07:20.996559",
     "exception": false,
     "start_time": "2022-10-23T16:07:19.549822",
     "status": "completed"
    },
    "tags": []
   },
   "outputs": [
    {
     "name": "stdout",
     "output_type": "stream",
     "text": [
      "Weighted Linear SVM accuracy with original features: 0.6817\n",
      "Weighted Linear SVM recall with original features: 0.6745\n",
      "Weighted Linear SVM precision with original features: 0.6826\n",
      "Weighted Linear SVM f1-score with original features: 0.6785\n",
      "Overfitting percentage: -1.22%\n"
     ]
    }
   ],
   "source": [
    "print(\"Weighted Linear SVM accuracy with original features: {:.4f}\".format(accuracy_score(y_val, y_pred)))\n",
    "print(\"Weighted Linear SVM recall with original features: {:.4f}\".format(recall_score(y_val, y_pred)))\n",
    "print(\"Weighted Linear SVM precision with original features: {:.4f}\".format(precision_score(y_val, y_pred)))\n",
    "print(\"Weighted Linear SVM f1-score with original features: {:.4f}\".format(f1_score(y_val, y_pred)))\n",
    "overfitting = (accuracy_score(y_train, svm_lin1_w.predict(X_train))/accuracy_score(y_val, y_pred)) - 1\n",
    "print(\"Overfitting percentage: {:.2f}%\".format(overfitting*100))"
   ]
  },
  {
   "cell_type": "code",
   "execution_count": 34,
   "id": "f9450081",
   "metadata": {
    "execution": {
     "iopub.execute_input": "2022-10-23T16:07:21.052046Z",
     "iopub.status.busy": "2022-10-23T16:07:21.051611Z",
     "iopub.status.idle": "2022-10-23T16:07:21.570305Z",
     "shell.execute_reply": "2022-10-23T16:07:21.569209Z"
    },
    "papermill": {
     "duration": 0.550462,
     "end_time": "2022-10-23T16:07:21.573313",
     "exception": false,
     "start_time": "2022-10-23T16:07:21.022851",
     "status": "completed"
    },
    "tags": []
   },
   "outputs": [
    {
     "name": "stderr",
     "output_type": "stream",
     "text": [
      "/opt/conda/lib/python3.7/site-packages/sklearn/utils/deprecation.py:87: FutureWarning: Function plot_confusion_matrix is deprecated; Function `plot_confusion_matrix` is deprecated in 1.0 and will be removed in 1.2. Use one of the class methods: ConfusionMatrixDisplay.from_predictions or ConfusionMatrixDisplay.from_estimator.\n",
      "  warnings.warn(msg, category=FutureWarning)\n"
     ]
    },
    {
     "data": {
      "text/plain": [
       "<sklearn.metrics._plot.confusion_matrix.ConfusionMatrixDisplay at 0x7fa8736761d0>"
      ]
     },
     "execution_count": 34,
     "metadata": {},
     "output_type": "execute_result"
    },
    {
     "data": {
      "image/png": "[encoded data removed]",
      "text/plain": [
       "<Figure size 432x288 with 2 Axes>"
      ]
     },
     "metadata": {
      "needs_background": "light"
     },
     "output_type": "display_data"
    }
   ],
   "source": [
    "plot_confusion_matrix(svm_lin1_w, X_val, y_val)"
   ]
  },
  {
   "cell_type": "code",
   "execution_count": 35,
   "id": "48517308",
   "metadata": {
    "execution": {
     "iopub.execute_input": "2022-10-23T16:07:21.626686Z",
     "iopub.status.busy": "2022-10-23T16:07:21.626261Z",
     "iopub.status.idle": "2022-10-23T16:07:27.309441Z",
     "shell.execute_reply": "2022-10-23T16:07:27.308118Z"
    },
    "papermill": {
     "duration": 5.713137,
     "end_time": "2022-10-23T16:07:27.312398",
     "exception": false,
     "start_time": "2022-10-23T16:07:21.599261",
     "status": "completed"
    },
    "tags": []
   },
   "outputs": [],
   "source": [
    "# Weighted Linear SVC with polynomial features\n",
    "weights = {0: 0.92, 1: 1.08}\n",
    "svm_lin2_w = SVC(kernel='linear', class_weight=weights)\n",
    "svm_lin2_w.fit(X_train_pol, y_train)\n",
    "y_pred = svm_lin2_w.predict(X_val_pol)"
   ]
  },
  {
   "cell_type": "code",
   "execution_count": 36,
   "id": "01436473",
   "metadata": {
    "execution": {
     "iopub.execute_input": "2022-10-23T16:07:27.365973Z",
     "iopub.status.busy": "2022-10-23T16:07:27.365498Z",
     "iopub.status.idle": "2022-10-23T16:07:29.214946Z",
     "shell.execute_reply": "2022-10-23T16:07:29.213413Z"
    },
    "papermill": {
     "duration": 1.878695,
     "end_time": "2022-10-23T16:07:29.217567",
     "exception": false,
     "start_time": "2022-10-23T16:07:27.338872",
     "status": "completed"
    },
    "tags": []
   },
   "outputs": [
    {
     "name": "stdout",
     "output_type": "stream",
     "text": [
      "Weighted Linear SVM accuracy with polynomial features: 0.7634\n",
      "Weighted Linear SVM recall with polynomial features: 0.7270\n",
      "Weighted Linear SVM precision with polynomial features: 0.7825\n",
      "Weighted Linear SVM f1-score with polynomial features: 0.7537\n",
      "Overfitting percentage: -1.75%\n"
     ]
    }
   ],
   "source": [
    "print(\"Weighted Linear SVM accuracy with polynomial features: {:.4f}\".format(accuracy_score(y_val, y_pred)))\n",
    "print(\"Weighted Linear SVM recall with polynomial features: {:.4f}\".format(recall_score(y_val, y_pred)))\n",
    "print(\"Weighted Linear SVM precision with polynomial features: {:.4f}\".format(precision_score(y_val, y_pred)))\n",
    "print(\"Weighted Linear SVM f1-score with polynomial features: {:.4f}\".format(f1_score(y_val, y_pred)))\n",
    "overfitting = (accuracy_score(y_train, svm_lin2_w.predict(X_train_pol))/accuracy_score(y_val, y_pred)) - 1\n",
    "print(\"Overfitting percentage: {:.2f}%\".format(overfitting*100))"
   ]
  },
  {
   "cell_type": "code",
   "execution_count": 37,
   "id": "28822b74",
   "metadata": {
    "execution": {
     "iopub.execute_input": "2022-10-23T16:07:29.273524Z",
     "iopub.status.busy": "2022-10-23T16:07:29.272246Z",
     "iopub.status.idle": "2022-10-23T16:07:29.843901Z",
     "shell.execute_reply": "2022-10-23T16:07:29.842682Z"
    },
    "papermill": {
     "duration": 0.602079,
     "end_time": "2022-10-23T16:07:29.846547",
     "exception": false,
     "start_time": "2022-10-23T16:07:29.244468",
     "status": "completed"
    },
    "tags": []
   },
   "outputs": [
    {
     "name": "stderr",
     "output_type": "stream",
     "text": [
      "/opt/conda/lib/python3.7/site-packages/sklearn/utils/deprecation.py:87: FutureWarning: Function plot_confusion_matrix is deprecated; Function `plot_confusion_matrix` is deprecated in 1.0 and will be removed in 1.2. Use one of the class methods: ConfusionMatrixDisplay.from_predictions or ConfusionMatrixDisplay.from_estimator.\n",
      "  warnings.warn(msg, category=FutureWarning)\n"
     ]
    },
    {
     "data": {
      "text/plain": [
       "<sklearn.metrics._plot.confusion_matrix.ConfusionMatrixDisplay at 0x7fa8737df250>"
      ]
     },
     "execution_count": 37,
     "metadata": {},
     "output_type": "execute_result"
    },
    {
     "data": {
      "image/png": "[encoded data removed]",
      "text/plain": [
       "<Figure size 432x288 with 2 Axes>"
      ]
     },
     "metadata": {
      "needs_background": "light"
     },
     "output_type": "display_data"
    }
   ],
   "source": [
    "plot_confusion_matrix(svm_lin2_w, X_val_pol, y_val)"
   ]
  },
  {
   "cell_type": "code",
   "execution_count": 38,
   "id": "67843d7d",
   "metadata": {
    "execution": {
     "iopub.execute_input": "2022-10-23T16:07:29.901307Z",
     "iopub.status.busy": "2022-10-23T16:07:29.900854Z",
     "iopub.status.idle": "2022-10-23T16:07:34.014751Z",
     "shell.execute_reply": "2022-10-23T16:07:34.013436Z"
    },
    "papermill": {
     "duration": 4.144578,
     "end_time": "2022-10-23T16:07:34.017672",
     "exception": false,
     "start_time": "2022-10-23T16:07:29.873094",
     "status": "completed"
    },
    "tags": []
   },
   "outputs": [],
   "source": [
    "# Weighted Gaussian SVC with original features\n",
    "weights = {0: 0.90, 1: 1.1}\n",
    "svm_gauss1_w = SVC(kernel='rbf', class_weight=weights)\n",
    "svm_gauss1_w.fit(X_train, y_train)\n",
    "y_pred = svm_gauss1_w.predict(X_val)"
   ]
  },
  {
   "cell_type": "code",
   "execution_count": 39,
   "id": "15c29af3",
   "metadata": {
    "execution": {
     "iopub.execute_input": "2022-10-23T16:07:34.074759Z",
     "iopub.status.busy": "2022-10-23T16:07:34.074195Z",
     "iopub.status.idle": "2022-10-23T16:07:36.897251Z",
     "shell.execute_reply": "2022-10-23T16:07:36.896009Z"
    },
    "papermill": {
     "duration": 2.854813,
     "end_time": "2022-10-23T16:07:36.900536",
     "exception": false,
     "start_time": "2022-10-23T16:07:34.045723",
     "status": "completed"
    },
    "tags": []
   },
   "outputs": [
    {
     "name": "stdout",
     "output_type": "stream",
     "text": [
      "Weighted Gaussian SVM accuracy with original features: 0.7490\n",
      "Weighted Gaussian SVM recall with original features: 0.7795\n",
      "Weighted Gaussian SVM precision with original features: 0.7333\n",
      "Weighted Gaussian SVM f1-score with original features: 0.7557\n",
      "Overfitting percentage: -0.60%\n"
     ]
    }
   ],
   "source": [
    "print(\"Weighted Gaussian SVM accuracy with original features: {:.4f}\".format(accuracy_score(y_val, y_pred)))\n",
    "print(\"Weighted Gaussian SVM recall with original features: {:.4f}\".format(recall_score(y_val, y_pred)))\n",
    "print(\"Weighted Gaussian SVM precision with original features: {:.4f}\".format(precision_score(y_val, y_pred)))\n",
    "print(\"Weighted Gaussian SVM f1-score with original features: {:.4f}\".format(f1_score(y_val, y_pred)))\n",
    "overfitting = (accuracy_score(y_train, svm_gauss1_w.predict(X_train))/accuracy_score(y_val, y_pred)) - 1\n",
    "print(\"Overfitting percentage: {:.2f}%\".format(overfitting*100))"
   ]
  },
  {
   "cell_type": "code",
   "execution_count": 40,
   "id": "020d56e1",
   "metadata": {
    "execution": {
     "iopub.execute_input": "2022-10-23T16:07:36.959974Z",
     "iopub.status.busy": "2022-10-23T16:07:36.958666Z",
     "iopub.status.idle": "2022-10-23T16:07:37.732510Z",
     "shell.execute_reply": "2022-10-23T16:07:37.731106Z"
    },
    "papermill": {
     "duration": 0.806972,
     "end_time": "2022-10-23T16:07:37.735297",
     "exception": false,
     "start_time": "2022-10-23T16:07:36.928325",
     "status": "completed"
    },
    "tags": []
   },
   "outputs": [
    {
     "name": "stderr",
     "output_type": "stream",
     "text": [
      "/opt/conda/lib/python3.7/site-packages/sklearn/utils/deprecation.py:87: FutureWarning: Function plot_confusion_matrix is deprecated; Function `plot_confusion_matrix` is deprecated in 1.0 and will be removed in 1.2. Use one of the class methods: ConfusionMatrixDisplay.from_predictions or ConfusionMatrixDisplay.from_estimator.\n",
      "  warnings.warn(msg, category=FutureWarning)\n"
     ]
    },
    {
     "data": {
      "text/plain": [
       "<sklearn.metrics._plot.confusion_matrix.ConfusionMatrixDisplay at 0x7fa873500810>"
      ]
     },
     "execution_count": 40,
     "metadata": {},
     "output_type": "execute_result"
    },
    {
     "data": {
      "image/png": "[encoded data removed]",
      "text/plain": [
       "<Figure size 432x288 with 2 Axes>"
      ]
     },
     "metadata": {
      "needs_background": "light"
     },
     "output_type": "display_data"
    }
   ],
   "source": [
    "plot_confusion_matrix(svm_gauss1_w, X_val, y_val)"
   ]
  },
  {
   "cell_type": "code",
   "execution_count": 41,
   "id": "f4ecb00a",
   "metadata": {
    "execution": {
     "iopub.execute_input": "2022-10-23T16:07:37.792173Z",
     "iopub.status.busy": "2022-10-23T16:07:37.791253Z",
     "iopub.status.idle": "2022-10-23T16:07:43.933335Z",
     "shell.execute_reply": "2022-10-23T16:07:43.932004Z"
    },
    "papermill": {
     "duration": 6.173936,
     "end_time": "2022-10-23T16:07:43.936200",
     "exception": false,
     "start_time": "2022-10-23T16:07:37.762264",
     "status": "completed"
    },
    "tags": []
   },
   "outputs": [],
   "source": [
    "# Weighted Gaussian SVC with polynomial features\n",
    "weights = {0: 0.90, 1: 1.1}\n",
    "svm_gauss2_w = SVC(kernel='rbf', class_weight=weights)\n",
    "svm_gauss2_w.fit(X_train_pol, y_train)\n",
    "y_pred = svm_gauss2_w.predict(X_val_pol)"
   ]
  },
  {
   "cell_type": "code",
   "execution_count": 42,
   "id": "0104daf1",
   "metadata": {
    "execution": {
     "iopub.execute_input": "2022-10-23T16:07:43.994668Z",
     "iopub.status.busy": "2022-10-23T16:07:43.994054Z",
     "iopub.status.idle": "2022-10-23T16:07:48.699493Z",
     "shell.execute_reply": "2022-10-23T16:07:48.698173Z"
    },
    "papermill": {
     "duration": 4.738641,
     "end_time": "2022-10-23T16:07:48.703775",
     "exception": false,
     "start_time": "2022-10-23T16:07:43.965134",
     "status": "completed"
    },
    "tags": []
   },
   "outputs": [
    {
     "name": "stdout",
     "output_type": "stream",
     "text": [
      "Gaussian SVM accuracy with polynomial features: 0.7353\n",
      "Gaussian SVM recall with polynomial features: 0.7454\n",
      "Gaussian SVM precision with polynomial features: 0.7291\n",
      "Gaussian SVM f1-score with polynomial features: 0.7372\n",
      "Overfitting percentage: 1.88%\n"
     ]
    }
   ],
   "source": [
    "print(\"Gaussian SVM accuracy with polynomial features: {:.4f}\".format(accuracy_score(y_val, y_pred)))\n",
    "print(\"Gaussian SVM recall with polynomial features: {:.4f}\".format(recall_score(y_val, y_pred)))\n",
    "print(\"Gaussian SVM precision with polynomial features: {:.4f}\".format(precision_score(y_val, y_pred)))\n",
    "print(\"Gaussian SVM f1-score with polynomial features: {:.4f}\".format(f1_score(y_val, y_pred)))\n",
    "overfitting = (accuracy_score(y_train, svm_gauss2_w.predict(X_train_pol))/accuracy_score(y_val, y_pred)) - 1\n",
    "print(\"Overfitting percentage: {:.2f}%\".format(overfitting*100))"
   ]
  },
  {
   "cell_type": "code",
   "execution_count": 43,
   "id": "f0dc0faa",
   "metadata": {
    "execution": {
     "iopub.execute_input": "2022-10-23T16:07:48.761637Z",
     "iopub.status.busy": "2022-10-23T16:07:48.761206Z",
     "iopub.status.idle": "2022-10-23T16:07:49.856499Z",
     "shell.execute_reply": "2022-10-23T16:07:49.855267Z"
    },
    "papermill": {
     "duration": 1.12709,
     "end_time": "2022-10-23T16:07:49.859145",
     "exception": false,
     "start_time": "2022-10-23T16:07:48.732055",
     "status": "completed"
    },
    "tags": []
   },
   "outputs": [
    {
     "name": "stderr",
     "output_type": "stream",
     "text": [
      "/opt/conda/lib/python3.7/site-packages/sklearn/utils/deprecation.py:87: FutureWarning: Function plot_confusion_matrix is deprecated; Function `plot_confusion_matrix` is deprecated in 1.0 and will be removed in 1.2. Use one of the class methods: ConfusionMatrixDisplay.from_predictions or ConfusionMatrixDisplay.from_estimator.\n",
      "  warnings.warn(msg, category=FutureWarning)\n"
     ]
    },
    {
     "data": {
      "text/plain": [
       "<sklearn.metrics._plot.confusion_matrix.ConfusionMatrixDisplay at 0x7fa8735bb250>"
      ]
     },
     "execution_count": 43,
     "metadata": {},
     "output_type": "execute_result"
    },
    {
     "data": {
      "image/png": "[encoded data removed]",
      "text/plain": [
       "<Figure size 432x288 with 2 Axes>"
      ]
     },
     "metadata": {
      "needs_background": "light"
     },
     "output_type": "display_data"
    }
   ],
   "source": [
    "plot_confusion_matrix(svm_gauss2_w, X_val_pol, y_val)"
   ]
  },
  {
   "cell_type": "markdown",
   "id": "f127debd",
   "metadata": {
    "papermill": {
     "duration": 0.029219,
     "end_time": "2022-10-23T16:07:49.916392",
     "exception": false,
     "start_time": "2022-10-23T16:07:49.887173",
     "status": "completed"
    },
    "tags": []
   },
   "source": [
    "## SVC Hyper Parameters Tuning"
   ]
  },
  {
   "cell_type": "markdown",
   "id": "f5968a5f",
   "metadata": {
    "papermill": {
     "duration": 0.028909,
     "end_time": "2022-10-23T16:07:49.975059",
     "exception": false,
     "start_time": "2022-10-23T16:07:49.946150",
     "status": "completed"
    },
    "tags": []
   },
   "source": [
    "## <font color='red'>HEAVY!!!</font>"
   ]
  },
  {
   "cell_type": "code",
   "execution_count": 44,
   "id": "81f6ae94",
   "metadata": {
    "execution": {
     "iopub.execute_input": "2022-10-23T16:07:50.035248Z",
     "iopub.status.busy": "2022-10-23T16:07:50.034838Z",
     "iopub.status.idle": "2022-10-23T16:11:11.892068Z",
     "shell.execute_reply": "2022-10-23T16:11:11.890823Z"
    },
    "papermill": {
     "duration": 201.918795,
     "end_time": "2022-10-23T16:11:11.922300",
     "exception": false,
     "start_time": "2022-10-23T16:07:50.003505",
     "status": "completed"
    },
    "tags": []
   },
   "outputs": [
    {
     "name": "stdout",
     "output_type": "stream",
     "text": [
      "Accuracy with C=0.001 : 0.6307\n",
      "Accuracy with C=0.01 : 0.6601\n",
      "Accuracy with C=0.1 : 0.6778\n",
      "Accuracy with C=1 : 0.6817\n",
      "Accuracy with C=10 : 0.6843\n",
      "Accuracy with C=100 : 0.6843\n",
      "Accuracy with C=1000 : 0.6837\n"
     ]
    }
   ],
   "source": [
    "# Hyper Parameters tuning for Weighted Linear SVC with original features\n",
    "C_list = [0.001, 0.01, 0.1, 1, 10, 100, 1000]\n",
    "weights = {0: 0.98, 1: 1.02}\n",
    "accuracy = []\n",
    "for C in C_list:\n",
    "    svm_lin1_w = SVC(kernel='linear', C=C, class_weight=weights)\n",
    "    svm_lin1_w.fit(X_train, y_train)\n",
    "    y_pred = svm_lin1_w.predict(X_val)\n",
    "    print(\"Accuracy with C=\" + str(C) + \" : {:.4f}\".format(accuracy_score(y_val, y_pred)))\n",
    "    accuracy.append([C, accuracy_score(y_val, y_pred)])"
   ]
  },
  {
   "cell_type": "code",
   "execution_count": 45,
   "id": "42ce6a1d",
   "metadata": {
    "execution": {
     "iopub.execute_input": "2022-10-23T16:11:11.982162Z",
     "iopub.status.busy": "2022-10-23T16:11:11.981726Z",
     "iopub.status.idle": "2022-10-23T16:11:12.200751Z",
     "shell.execute_reply": "2022-10-23T16:11:12.199496Z"
    },
    "papermill": {
     "duration": 0.252838,
     "end_time": "2022-10-23T16:11:12.203574",
     "exception": false,
     "start_time": "2022-10-23T16:11:11.950736",
     "status": "completed"
    },
    "tags": []
   },
   "outputs": [
    {
     "data": {
      "text/plain": [
       "[<matplotlib.lines.Line2D at 0x7fa87330cb10>]"
      ]
     },
     "execution_count": 45,
     "metadata": {},
     "output_type": "execute_result"
    },
    {
     "data": {
      "image/png": "[encoded data removed]",
      "text/plain": [
       "<Figure size 432x288 with 1 Axes>"
      ]
     },
     "metadata": {
      "needs_background": "light"
     },
     "output_type": "display_data"
    }
   ],
   "source": [
    "plt.plot(np.array(np.log10(accuracy))[:, 0], np.array(accuracy)[:, 1])"
   ]
  },
  {
   "cell_type": "code",
   "execution_count": 46,
   "id": "c2496606",
   "metadata": {
    "execution": {
     "iopub.execute_input": "2022-10-23T16:11:12.265152Z",
     "iopub.status.busy": "2022-10-23T16:11:12.264392Z",
     "iopub.status.idle": "2022-10-23T16:11:19.947890Z",
     "shell.execute_reply": "2022-10-23T16:11:19.946608Z"
    },
    "papermill": {
     "duration": 7.717629,
     "end_time": "2022-10-23T16:11:19.950740",
     "exception": false,
     "start_time": "2022-10-23T16:11:12.233111",
     "status": "completed"
    },
    "tags": []
   },
   "outputs": [],
   "source": [
    "weights = {0: 0.98, 1: 1.02}\n",
    "svm_lin1_w = SVC(kernel='linear', C=10, class_weight=weights)\n",
    "svm_lin1_w.fit(X_train, y_train)\n",
    "y_pred = svm_lin1_w.predict(X_val)"
   ]
  },
  {
   "cell_type": "code",
   "execution_count": 47,
   "id": "2ce5d542",
   "metadata": {
    "execution": {
     "iopub.execute_input": "2022-10-23T16:11:20.010793Z",
     "iopub.status.busy": "2022-10-23T16:11:20.010373Z",
     "iopub.status.idle": "2022-10-23T16:11:21.847107Z",
     "shell.execute_reply": "2022-10-23T16:11:21.845605Z"
    },
    "papermill": {
     "duration": 1.869892,
     "end_time": "2022-10-23T16:11:21.850072",
     "exception": false,
     "start_time": "2022-10-23T16:11:19.980180",
     "status": "completed"
    },
    "tags": []
   },
   "outputs": [
    {
     "name": "stdout",
     "output_type": "stream",
     "text": [
      "Weighted Linear SVM accuracy with original features: 0.6843\n",
      "Weighted Linear SVM recall with original features: 0.6759\n",
      "Weighted Linear SVM precision with original features: 0.6858\n",
      "Weighted Linear SVM f1-score with original features: 0.6808\n",
      "Overfitting percentage: 9.61%\n"
     ]
    }
   ],
   "source": [
    "print(\"Weighted Linear SVM accuracy with original features: {:.4f}\".format(accuracy_score(y_val, y_pred)))\n",
    "print(\"Weighted Linear SVM recall with original features: {:.4f}\".format(recall_score(y_val, y_pred)))\n",
    "print(\"Weighted Linear SVM precision with original features: {:.4f}\".format(precision_score(y_val, y_pred)))\n",
    "print(\"Weighted Linear SVM f1-score with original features: {:.4f}\".format(f1_score(y_val, y_pred)))\n",
    "overfitting = (accuracy_score(y_train, svm_lin2_w.predict(X_train_pol))/accuracy_score(y_val, y_pred)) - 1\n",
    "print(\"Overfitting percentage: {:.2f}%\".format(overfitting*100))"
   ]
  },
  {
   "cell_type": "markdown",
   "id": "1b84c6e9",
   "metadata": {
    "papermill": {
     "duration": 0.028783,
     "end_time": "2022-10-23T16:11:21.907819",
     "exception": false,
     "start_time": "2022-10-23T16:11:21.879036",
     "status": "completed"
    },
    "tags": []
   },
   "source": [
    "## <font color='red'>HEAVY!!!</font>"
   ]
  },
  {
   "cell_type": "code",
   "execution_count": 48,
   "id": "faa02c02",
   "metadata": {
    "execution": {
     "iopub.execute_input": "2022-10-23T16:11:21.968217Z",
     "iopub.status.busy": "2022-10-23T16:11:21.967805Z",
     "iopub.status.idle": "2022-10-23T16:12:13.446453Z",
     "shell.execute_reply": "2022-10-23T16:12:13.445139Z"
    },
    "papermill": {
     "duration": 51.513033,
     "end_time": "2022-10-23T16:12:13.450135",
     "exception": false,
     "start_time": "2022-10-23T16:11:21.937102",
     "status": "completed"
    },
    "tags": []
   },
   "outputs": [
    {
     "name": "stdout",
     "output_type": "stream",
     "text": [
      "Accuracy with C=0.1 : 0.7582\n",
      "Accuracy with C=0.2 : 0.7614\n",
      "Accuracy with C=0.30000000000000004 : 0.7634\n",
      "Accuracy with C=0.4 : 0.7654\n",
      "Accuracy with C=0.5 : 0.7673\n",
      "Accuracy with C=0.6 : 0.7660\n",
      "Accuracy with C=0.7000000000000001 : 0.7634\n",
      "Accuracy with C=0.8 : 0.7621\n",
      "Accuracy with C=0.9 : 0.7660\n",
      "Accuracy with C=1.0 : 0.7634\n"
     ]
    }
   ],
   "source": [
    "# Hyper Parameters tuning for Weighted Linear SVC with polynomial features\n",
    "#C_list = [0.001, 0.01, 0.1, 1, 10, 100, 1000]\n",
    "C_list = np.linspace(start=0.1, stop=1.0, num=10)\n",
    "weights = {0: 0.92, 1: 1.08}\n",
    "accuracy = []\n",
    "for C in C_list:\n",
    "    svm_lin2_w = SVC(kernel='linear', C=C, class_weight=weights)\n",
    "    svm_lin2_w.fit(X_train_pol, y_train)\n",
    "    y_pred = svm_lin2_w.predict(X_val_pol)\n",
    "    print(\"Accuracy with C=\" + str(C) + \" : {:.4f}\".format(accuracy_score(y_val, y_pred)))\n",
    "    accuracy.append([C, accuracy_score(y_val, y_pred)])"
   ]
  },
  {
   "cell_type": "code",
   "execution_count": 49,
   "id": "d91c267c",
   "metadata": {
    "execution": {
     "iopub.execute_input": "2022-10-23T16:12:13.510913Z",
     "iopub.status.busy": "2022-10-23T16:12:13.510480Z",
     "iopub.status.idle": "2022-10-23T16:12:13.712718Z",
     "shell.execute_reply": "2022-10-23T16:12:13.711386Z"
    },
    "papermill": {
     "duration": 0.235597,
     "end_time": "2022-10-23T16:12:13.715632",
     "exception": false,
     "start_time": "2022-10-23T16:12:13.480035",
     "status": "completed"
    },
    "tags": []
   },
   "outputs": [
    {
     "data": {
      "text/plain": [
       "[<matplotlib.lines.Line2D at 0x7fa873293a50>]"
      ]
     },
     "execution_count": 49,
     "metadata": {},
     "output_type": "execute_result"
    },
    {
     "data": {
      "image/png": "[encoded data removed]",
      "text/plain": [
       "<Figure size 432x288 with 1 Axes>"
      ]
     },
     "metadata": {
      "needs_background": "light"
     },
     "output_type": "display_data"
    }
   ],
   "source": [
    "plt.plot(np.array(accuracy)[:, 0], np.array(accuracy)[:, 1])"
   ]
  },
  {
   "cell_type": "code",
   "execution_count": 50,
   "id": "a645b629",
   "metadata": {
    "execution": {
     "iopub.execute_input": "2022-10-23T16:12:13.776874Z",
     "iopub.status.busy": "2022-10-23T16:12:13.776440Z",
     "iopub.status.idle": "2022-10-23T16:12:18.838365Z",
     "shell.execute_reply": "2022-10-23T16:12:18.837021Z"
    },
    "papermill": {
     "duration": 5.095899,
     "end_time": "2022-10-23T16:12:18.841516",
     "exception": false,
     "start_time": "2022-10-23T16:12:13.745617",
     "status": "completed"
    },
    "tags": []
   },
   "outputs": [],
   "source": [
    "weights = {0: 0.92, 1: 1.08}\n",
    "svm_lin2_w = SVC(kernel='linear', C=0.5, class_weight=weights)\n",
    "svm_lin2_w.fit(X_train_pol, y_train)\n",
    "y_pred = svm_lin2_w.predict(X_val_pol)"
   ]
  },
  {
   "cell_type": "code",
   "execution_count": 51,
   "id": "b6979ca3",
   "metadata": {
    "execution": {
     "iopub.execute_input": "2022-10-23T16:12:18.902174Z",
     "iopub.status.busy": "2022-10-23T16:12:18.901755Z",
     "iopub.status.idle": "2022-10-23T16:12:20.780792Z",
     "shell.execute_reply": "2022-10-23T16:12:20.779313Z"
    },
    "papermill": {
     "duration": 1.912371,
     "end_time": "2022-10-23T16:12:20.783329",
     "exception": false,
     "start_time": "2022-10-23T16:12:18.870958",
     "status": "completed"
    },
    "tags": []
   },
   "outputs": [
    {
     "name": "stdout",
     "output_type": "stream",
     "text": [
      "Weighted Linear SVM accuracy with polynomial features: 0.7673\n",
      "Weighted Linear SVM recall with polynomial features: 0.7441\n",
      "Weighted Linear SVM precision with polynomial features: 0.7788\n",
      "Weighted Linear SVM f1-score with polynomial features: 0.7611\n",
      "Overfitting percentage: -2.43%\n"
     ]
    }
   ],
   "source": [
    "print(\"Weighted Linear SVM accuracy with polynomial features: {:.4f}\".format(accuracy_score(y_val, y_pred)))\n",
    "print(\"Weighted Linear SVM recall with polynomial features: {:.4f}\".format(recall_score(y_val, y_pred)))\n",
    "print(\"Weighted Linear SVM precision with polynomial features: {:.4f}\".format(precision_score(y_val, y_pred)))\n",
    "print(\"Weighted Linear SVM f1-score with polynomial features: {:.4f}\".format(f1_score(y_val, y_pred)))\n",
    "overfitting = (accuracy_score(y_train, svm_lin2_w.predict(X_train_pol))/accuracy_score(y_val, y_pred)) - 1\n",
    "print(\"Overfitting percentage: {:.2f}%\".format(overfitting*100))"
   ]
  },
  {
   "cell_type": "markdown",
   "id": "52c411ce",
   "metadata": {
    "papermill": {
     "duration": 0.031238,
     "end_time": "2022-10-23T16:12:20.844960",
     "exception": false,
     "start_time": "2022-10-23T16:12:20.813722",
     "status": "completed"
    },
    "tags": []
   },
   "source": [
    "## <font color='red'>HEAVY!!!</font>"
   ]
  },
  {
   "cell_type": "code",
   "execution_count": 52,
   "id": "aa224de4",
   "metadata": {
    "execution": {
     "iopub.execute_input": "2022-10-23T16:12:20.906751Z",
     "iopub.status.busy": "2022-10-23T16:12:20.905453Z",
     "iopub.status.idle": "2022-10-23T16:17:33.011841Z",
     "shell.execute_reply": "2022-10-23T16:17:33.010645Z"
    },
    "papermill": {
     "duration": 312.170764,
     "end_time": "2022-10-23T16:17:33.045402",
     "exception": false,
     "start_time": "2022-10-23T16:12:20.874638",
     "status": "completed"
    },
    "tags": []
   },
   "outputs": [
    {
     "name": "stdout",
     "output_type": "stream",
     "text": [
      "Accuracy with C=1000.0 : 0.8255\n",
      "Accuracy with C=1111.111111111111 : 0.8248\n",
      "Accuracy with C=1222.2222222222222 : 0.8275\n",
      "Accuracy with C=1333.3333333333335 : 0.8261\n",
      "Accuracy with C=1444.4444444444443 : 0.8242\n",
      "Accuracy with C=1555.5555555555557 : 0.8248\n",
      "Accuracy with C=1666.6666666666667 : 0.8242\n",
      "Accuracy with C=1777.7777777777778 : 0.8242\n",
      "Accuracy with C=1888.888888888889 : 0.8235\n",
      "Accuracy with C=2000.0 : 0.8235\n"
     ]
    }
   ],
   "source": [
    "# Hyper Parameters tuning for Weighted Gaussian SVC with original features\n",
    "#C_list = [0.001, 0.01, 0.1, 1, 10, 100, 1000]\n",
    "C_list = np.linspace(start=1000, stop=2000, num=10)\n",
    "weights = {0: 0.90, 1: 1.1}\n",
    "accuracy = []\n",
    "for C in C_list:\n",
    "    svm_gauss1_w = SVC(kernel='rbf', C=C, class_weight=weights)\n",
    "    svm_gauss1_w.fit(X_train, y_train)\n",
    "    y_pred = svm_gauss1_w.predict(X_val)\n",
    "    print(\"Accuracy with C=\" + str(C) + \" : {:.4f}\".format(accuracy_score(y_val, y_pred)))\n",
    "    accuracy.append([C, accuracy_score(y_val, y_pred)])"
   ]
  },
  {
   "cell_type": "code",
   "execution_count": 53,
   "id": "10e56231",
   "metadata": {
    "execution": {
     "iopub.execute_input": "2022-10-23T16:17:33.108637Z",
     "iopub.status.busy": "2022-10-23T16:17:33.107968Z",
     "iopub.status.idle": "2022-10-23T16:17:33.340668Z",
     "shell.execute_reply": "2022-10-23T16:17:33.339759Z"
    },
    "papermill": {
     "duration": 0.267162,
     "end_time": "2022-10-23T16:17:33.342998",
     "exception": false,
     "start_time": "2022-10-23T16:17:33.075836",
     "status": "completed"
    },
    "tags": []
   },
   "outputs": [
    {
     "data": {
      "text/plain": [
       "[<matplotlib.lines.Line2D at 0x7fa87320b850>]"
      ]
     },
     "execution_count": 53,
     "metadata": {},
     "output_type": "execute_result"
    },
    {
     "data": {
      "image/png": "[encoded data removed]",
      "text/plain": [
       "<Figure size 432x288 with 1 Axes>"
      ]
     },
     "metadata": {
      "needs_background": "light"
     },
     "output_type": "display_data"
    }
   ],
   "source": [
    "plt.plot(np.array(accuracy)[:, 0], np.array(accuracy)[:, 1])"
   ]
  },
  {
   "cell_type": "code",
   "execution_count": 54,
   "id": "a820f1bf",
   "metadata": {
    "execution": {
     "iopub.execute_input": "2022-10-23T16:17:33.406307Z",
     "iopub.status.busy": "2022-10-23T16:17:33.405672Z",
     "iopub.status.idle": "2022-10-23T16:17:58.845720Z",
     "shell.execute_reply": "2022-10-23T16:17:58.844170Z"
    },
    "papermill": {
     "duration": 25.47525,
     "end_time": "2022-10-23T16:17:58.848728",
     "exception": false,
     "start_time": "2022-10-23T16:17:33.373478",
     "status": "completed"
    },
    "tags": []
   },
   "outputs": [],
   "source": [
    "weights = {0: 0.90, 1: 1.1}\n",
    "svm_gauss1_w = SVC(kernel='rbf', C=1200, class_weight=weights)\n",
    "svm_gauss1_w.fit(X_train, y_train)\n",
    "y_pred = svm_gauss1_w.predict(X_val)"
   ]
  },
  {
   "cell_type": "code",
   "execution_count": 55,
   "id": "f15d1fe9",
   "metadata": {
    "execution": {
     "iopub.execute_input": "2022-10-23T16:17:58.912344Z",
     "iopub.status.busy": "2022-10-23T16:17:58.911716Z",
     "iopub.status.idle": "2022-10-23T16:18:00.890116Z",
     "shell.execute_reply": "2022-10-23T16:18:00.888681Z"
    },
    "papermill": {
     "duration": 2.01389,
     "end_time": "2022-10-23T16:18:00.893218",
     "exception": false,
     "start_time": "2022-10-23T16:17:58.879328",
     "status": "completed"
    },
    "tags": []
   },
   "outputs": [
    {
     "name": "stdout",
     "output_type": "stream",
     "text": [
      "Weighted Gaussian SVM accuracy with original features: 0.8281\n",
      "Weighted Gaussian SVM recall with original features: 0.8097\n",
      "Weighted Gaussian SVM precision with original features: 0.8395\n",
      "Weighted Gaussian SVM f1-score with original features: 0.8243\n",
      "Overfitting percentage: -9.59%\n"
     ]
    }
   ],
   "source": [
    "print(\"Weighted Gaussian SVM accuracy with original features: {:.4f}\".format(accuracy_score(y_val, y_pred)))\n",
    "print(\"Weighted Gaussian SVM recall with original features: {:.4f}\".format(recall_score(y_val, y_pred)))\n",
    "print(\"Weighted Gaussian SVM precision with original features: {:.4f}\".format(precision_score(y_val, y_pred)))\n",
    "print(\"Weighted Gaussian SVM f1-score with original features: {:.4f}\".format(f1_score(y_val, y_pred)))\n",
    "overfitting = (accuracy_score(y_train, svm_lin2_w.predict(X_train_pol))/accuracy_score(y_val, y_pred)) - 1\n",
    "print(\"Overfitting percentage: {:.2f}%\".format(overfitting*100))"
   ]
  },
  {
   "cell_type": "markdown",
   "id": "4fdb6d8b",
   "metadata": {
    "papermill": {
     "duration": 0.032275,
     "end_time": "2022-10-23T16:18:00.958229",
     "exception": false,
     "start_time": "2022-10-23T16:18:00.925954",
     "status": "completed"
    },
    "tags": []
   },
   "source": [
    "## <font color='red'>HEAVY!!!</font>"
   ]
  },
  {
   "cell_type": "code",
   "execution_count": 56,
   "id": "2b8a7080",
   "metadata": {
    "execution": {
     "iopub.execute_input": "2022-10-23T16:18:01.024934Z",
     "iopub.status.busy": "2022-10-23T16:18:01.024189Z",
     "iopub.status.idle": "2022-10-23T16:20:51.043674Z",
     "shell.execute_reply": "2022-10-23T16:20:51.042172Z"
    },
    "papermill": {
     "duration": 170.055827,
     "end_time": "2022-10-23T16:20:51.046241",
     "exception": false,
     "start_time": "2022-10-23T16:18:00.990414",
     "status": "completed"
    },
    "tags": []
   },
   "outputs": [
    {
     "name": "stdout",
     "output_type": "stream",
     "text": [
      "Accuracy with C=100.0 : 0.8150\n",
      "Accuracy with C=200.0 : 0.8157\n",
      "Accuracy with C=300.0 : 0.8131\n",
      "Accuracy with C=400.0 : 0.8131\n",
      "Accuracy with C=500.0 : 0.8203\n",
      "Accuracy with C=600.0 : 0.8183\n",
      "Accuracy with C=700.0 : 0.8176\n",
      "Accuracy with C=800.0 : 0.8170\n",
      "Accuracy with C=900.0 : 0.8157\n",
      "Accuracy with C=1000.0 : 0.8131\n"
     ]
    }
   ],
   "source": [
    "# Hyper Parameters tuning for Weighted Gaussian SVC with polynomial features\n",
    "#C_list = [0.001, 0.01, 0.1, 1, 10, 100, 1000]\n",
    "C_list = np.linspace(start=100, stop=1000, num=10)\n",
    "weights = {0: 0.90, 1: 1.1}\n",
    "accuracy = []\n",
    "for C in C_list:\n",
    "    svm_gauss2_w = SVC(kernel='rbf', C=C, class_weight=weights)\n",
    "    svm_gauss2_w.fit(X_train_pol, y_train)\n",
    "    y_pred = svm_gauss2_w.predict(X_val_pol)\n",
    "    print(\"Accuracy with C=\" + str(C) + \" : {:.4f}\".format(accuracy_score(y_val, y_pred)))\n",
    "    accuracy.append([C, accuracy_score(y_val, y_pred)])"
   ]
  },
  {
   "cell_type": "code",
   "execution_count": 57,
   "id": "8a7cf506",
   "metadata": {
    "execution": {
     "iopub.execute_input": "2022-10-23T16:20:51.114028Z",
     "iopub.status.busy": "2022-10-23T16:20:51.113610Z",
     "iopub.status.idle": "2022-10-23T16:20:51.344175Z",
     "shell.execute_reply": "2022-10-23T16:20:51.342911Z"
    },
    "papermill": {
     "duration": 0.267736,
     "end_time": "2022-10-23T16:20:51.347033",
     "exception": false,
     "start_time": "2022-10-23T16:20:51.079297",
     "status": "completed"
    },
    "tags": []
   },
   "outputs": [
    {
     "data": {
      "text/plain": [
       "[<matplotlib.lines.Line2D at 0x7fa873197a50>]"
      ]
     },
     "execution_count": 57,
     "metadata": {},
     "output_type": "execute_result"
    },
    {
     "data": {
      "image/png": "[encoded data removed]",
      "text/plain": [
       "<Figure size 432x288 with 1 Axes>"
      ]
     },
     "metadata": {
      "needs_background": "light"
     },
     "output_type": "display_data"
    }
   ],
   "source": [
    "plt.plot(np.array(accuracy)[:, 0], np.array(accuracy)[:, 1])"
   ]
  },
  {
   "cell_type": "code",
   "execution_count": 58,
   "id": "29f72208",
   "metadata": {
    "execution": {
     "iopub.execute_input": "2022-10-23T16:20:51.414904Z",
     "iopub.status.busy": "2022-10-23T16:20:51.414479Z",
     "iopub.status.idle": "2022-10-23T16:21:08.216969Z",
     "shell.execute_reply": "2022-10-23T16:21:08.215459Z"
    },
    "papermill": {
     "duration": 16.839558,
     "end_time": "2022-10-23T16:21:08.219948",
     "exception": false,
     "start_time": "2022-10-23T16:20:51.380390",
     "status": "completed"
    },
    "tags": []
   },
   "outputs": [],
   "source": [
    "weights = {0: 0.90, 1: 1.1}\n",
    "svm_gauss2_w = SVC(kernel='rbf', C=500, class_weight=weights)\n",
    "svm_gauss2_w.fit(X_train_pol, y_train)\n",
    "y_pred = svm_gauss2_w.predict(X_val_pol)"
   ]
  },
  {
   "cell_type": "code",
   "execution_count": 59,
   "id": "8c163c4e",
   "metadata": {
    "execution": {
     "iopub.execute_input": "2022-10-23T16:21:08.292760Z",
     "iopub.status.busy": "2022-10-23T16:21:08.291846Z",
     "iopub.status.idle": "2022-10-23T16:21:10.198028Z",
     "shell.execute_reply": "2022-10-23T16:21:10.196680Z"
    },
    "papermill": {
     "duration": 1.945208,
     "end_time": "2022-10-23T16:21:10.200570",
     "exception": false,
     "start_time": "2022-10-23T16:21:08.255362",
     "status": "completed"
    },
    "tags": []
   },
   "outputs": [
    {
     "name": "stdout",
     "output_type": "stream",
     "text": [
      "Weighted Gaussian SVM accuracy with polynomial features: 0.8203\n",
      "Weighted Gaussian SVM recall with polynomial features: 0.8097\n",
      "Weighted Gaussian SVM precision with polynomial features: 0.8260\n",
      "Weighted Gaussian SVM f1-score with polynomial features: 0.8178\n",
      "Overfitting percentage: -8.73%\n"
     ]
    }
   ],
   "source": [
    "print(\"Weighted Gaussian SVM accuracy with polynomial features: {:.4f}\".format(accuracy_score(y_val, y_pred)))\n",
    "print(\"Weighted Gaussian SVM recall with polynomial features: {:.4f}\".format(recall_score(y_val, y_pred)))\n",
    "print(\"Weighted Gaussian SVM precision with polynomial features: {:.4f}\".format(precision_score(y_val, y_pred)))\n",
    "print(\"Weighted Gaussian SVM f1-score with polynomial features: {:.4f}\".format(f1_score(y_val, y_pred)))\n",
    "overfitting = (accuracy_score(y_train, svm_lin2_w.predict(X_train_pol))/accuracy_score(y_val, y_pred)) - 1\n",
    "print(\"Overfitting percentage: {:.2f}%\".format(overfitting*100))"
   ]
  },
  {
   "cell_type": "markdown",
   "id": "20e4da92",
   "metadata": {
    "papermill": {
     "duration": 0.032757,
     "end_time": "2022-10-23T16:21:10.268069",
     "exception": false,
     "start_time": "2022-10-23T16:21:10.235312",
     "status": "completed"
    },
    "tags": []
   },
   "source": [
    "## Random Forest Model"
   ]
  },
  {
   "cell_type": "code",
   "execution_count": 60,
   "id": "e87dfda8",
   "metadata": {
    "_kg_hide-input": true,
    "execution": {
     "iopub.execute_input": "2022-10-23T16:21:10.335326Z",
     "iopub.status.busy": "2022-10-23T16:21:10.334931Z",
     "iopub.status.idle": "2022-10-23T16:21:46.860606Z",
     "shell.execute_reply": "2022-10-23T16:21:46.858945Z"
    },
    "papermill": {
     "duration": 36.562152,
     "end_time": "2022-10-23T16:21:46.863205",
     "exception": false,
     "start_time": "2022-10-23T16:21:10.301053",
     "status": "completed"
    },
    "tags": []
   },
   "outputs": [
    {
     "name": "stdout",
     "output_type": "stream",
     "text": [
      "Accuracy with N=80 : 0.7876\n",
      "Accuracy with N=90 : 0.7908\n",
      "Accuracy with N=100 : 0.7915\n",
      "Accuracy with N=110 : 0.7902\n",
      "Accuracy with N=120 : 0.7895\n",
      "Accuracy with N=130 : 0.7882\n",
      "Accuracy with N=140 : 0.7902\n",
      "Accuracy with N=150 : 0.7902\n",
      "Accuracy with N=160 : 0.7895\n",
      "Accuracy with N=170 : 0.7902\n",
      "Accuracy with N=180 : 0.7908\n",
      "Accuracy with N=190 : 0.7908\n",
      "Accuracy with N=200 : 0.7863\n"
     ]
    }
   ],
   "source": [
    "# Random Forest with number of estimators optimization (original dataset)\n",
    "\n",
    "N_est = list(range(80, 210, 10)) # number of trees\n",
    "accuracy = []\n",
    "for N in N_est:\n",
    "    rfc = RandomForestClassifier(n_estimators=N, random_state=seed_value)\n",
    "    rfc.fit(X_train, y_train)\n",
    "    y_pred = rfc.predict(X_val)\n",
    "    accuracy.append([N, accuracy_score(y_val, y_pred)])\n",
    "    print(\"Accuracy with N=\" + str(N) + \" : {:.4f}\".format(accuracy[-1][1]))"
   ]
  },
  {
   "cell_type": "code",
   "execution_count": 61,
   "id": "db2bb5b7",
   "metadata": {
    "execution": {
     "iopub.execute_input": "2022-10-23T16:21:46.932355Z",
     "iopub.status.busy": "2022-10-23T16:21:46.931559Z",
     "iopub.status.idle": "2022-10-23T16:21:47.182241Z",
     "shell.execute_reply": "2022-10-23T16:21:47.181064Z"
    },
    "papermill": {
     "duration": 0.288277,
     "end_time": "2022-10-23T16:21:47.185010",
     "exception": false,
     "start_time": "2022-10-23T16:21:46.896733",
     "status": "completed"
    },
    "tags": []
   },
   "outputs": [
    {
     "data": {
      "text/plain": [
       "<matplotlib.collections.PathCollection at 0x7fa8730f8710>"
      ]
     },
     "execution_count": 61,
     "metadata": {},
     "output_type": "execute_result"
    },
    {
     "data": {
      "image/png": "[encoded data removed]",
      "text/plain": [
       "<Figure size 432x288 with 1 Axes>"
      ]
     },
     "metadata": {
      "needs_background": "light"
     },
     "output_type": "display_data"
    }
   ],
   "source": [
    "# Actually, there are no big changes as we increase the number of trees, we select 100 estimators\n",
    "plt.plot(np.array(accuracy)[:, 0], np.array(accuracy)[:, 1])\n",
    "plt.scatter(np.array(accuracy)[:, 0], np.array(accuracy)[:, 1])"
   ]
  },
  {
   "cell_type": "code",
   "execution_count": 62,
   "id": "b4a03f75",
   "metadata": {
    "execution": {
     "iopub.execute_input": "2022-10-23T16:21:47.257735Z",
     "iopub.status.busy": "2022-10-23T16:21:47.256953Z",
     "iopub.status.idle": "2022-10-23T16:22:11.443831Z",
     "shell.execute_reply": "2022-10-23T16:22:11.442616Z"
    },
    "papermill": {
     "duration": 24.225033,
     "end_time": "2022-10-23T16:22:11.446395",
     "exception": false,
     "start_time": "2022-10-23T16:21:47.221362",
     "status": "completed"
    },
    "tags": []
   },
   "outputs": [
    {
     "name": "stdout",
     "output_type": "stream",
     "text": [
      "Accuracy with depth=5 : 0.7144\n",
      "Overfit with depth=5 : 0.0133\n",
      "Accuracy with depth=6 : 0.7359\n",
      "Overfit with depth=6 : 0.0209\n",
      "Accuracy with depth=7 : 0.7340\n",
      "Overfit with depth=7 : 0.0406\n",
      "Accuracy with depth=8 : 0.7458\n",
      "Overfit with depth=8 : 0.0559\n",
      "Accuracy with depth=9 : 0.7510\n",
      "Overfit with depth=9 : 0.0796\n",
      "Accuracy with depth=10 : 0.7451\n",
      "Overfit with depth=10 : 0.1096\n",
      "Accuracy with depth=11 : 0.7523\n",
      "Overfit with depth=11 : 0.1317\n",
      "Accuracy with depth=12 : 0.7647\n",
      "Overfit with depth=12 : 0.1522\n",
      "Accuracy with depth=13 : 0.7667\n",
      "Overfit with depth=13 : 0.1838\n",
      "Accuracy with depth=14 : 0.7791\n",
      "Overfit with depth=14 : 0.2029\n",
      "Accuracy with depth=15 : 0.7791\n",
      "Overfit with depth=15 : 0.2209\n",
      "Accuracy with depth=16 : 0.7850\n",
      "Overfit with depth=16 : 0.2341\n",
      "Accuracy with depth=17 : 0.7732\n",
      "Overfit with depth=17 : 0.2701\n",
      "Accuracy with depth=18 : 0.7758\n",
      "Overfit with depth=18 : 0.2753\n",
      "Accuracy with depth=19 : 0.7869\n",
      "Overfit with depth=19 : 0.2637\n"
     ]
    }
   ],
   "source": [
    "# Random Forest with depth of tree optimization to prevent overfitting with best number of estimators (original dataset) \n",
    "\n",
    "N_est = 100 # number of trees\n",
    "trees_depth = list(range(5, 20, 1)) # depth of the trees\n",
    "accuracy_tree = []\n",
    "overfit_score = []\n",
    "for depth in trees_depth:\n",
    "    rfc = RandomForestClassifier(n_estimators=N_est, random_state=seed_value, max_depth=depth)\n",
    "    rfc.fit(X_train, y_train)\n",
    "    y_pred = rfc.predict(X_val)\n",
    "    accuracy_tree.append([depth, accuracy_score(y_val, y_pred)])\n",
    "    overfit_score.append([depth, (accuracy_score(y_train, rfc.predict(X_train))/accuracy_score(y_val, y_pred)) - 1])\n",
    "    print(\"Accuracy with depth=\" + str(depth) + \" : {:.4f}\".format(accuracy_tree[-1][1]))\n",
    "    print(\"Overfit with depth=\" + str(depth) + \" : {:.4f}\".format(overfit_score[-1][1]))"
   ]
  },
  {
   "cell_type": "code",
   "execution_count": 63,
   "id": "7cd75535",
   "metadata": {
    "execution": {
     "iopub.execute_input": "2022-10-23T16:22:11.519390Z",
     "iopub.status.busy": "2022-10-23T16:22:11.519014Z",
     "iopub.status.idle": "2022-10-23T16:22:12.024507Z",
     "shell.execute_reply": "2022-10-23T16:22:12.023217Z"
    },
    "papermill": {
     "duration": 0.546438,
     "end_time": "2022-10-23T16:22:12.027555",
     "exception": false,
     "start_time": "2022-10-23T16:22:11.481117",
     "status": "completed"
    },
    "tags": []
   },
   "outputs": [
    {
     "data": {
      "image/png": "[encoded data removed]",
      "text/plain": [
       "<Figure size 1296x720 with 1 Axes>"
      ]
     },
     "metadata": {
      "needs_background": "light"
     },
     "output_type": "display_data"
    }
   ],
   "source": [
    "# Plot of accuracy and overfit (with max-min normalization to best interpret the plot)\n",
    "normalized_overfit = (np.array(overfit_score)[:, 1] - np.amin(np.array(overfit_score)[:, 1]))/(np.amax(np.array(overfit_score)[:, 1]) - np.amin(np.array(overfit_score)[:, 1]))\n",
    "\n",
    "plt.figure(figsize=(18,10))\n",
    "plt.plot(trees_depth, normalized_overfit, label='Normalized overfit')\n",
    "plt.bar(trees_depth, np.array(accuracy_tree)[0:len(trees_depth), 1], color='orange', label='Accuracy')\n",
    "plt.scatter(trees_depth, normalized_overfit, color='blue')\n",
    "\n",
    "plt.xlabel('Trees maximum depth', fontsize=30)\n",
    "plt.xticks(fontsize=20)\n",
    "plt.yticks(fontsize=20)\n",
    "plt.legend(fontsize=30)\n",
    "\n",
    "plt.savefig('Trees.png')"
   ]
  },
  {
   "cell_type": "code",
   "execution_count": 64,
   "id": "ec6ff224",
   "metadata": {
    "execution": {
     "iopub.execute_input": "2022-10-23T16:22:12.102454Z",
     "iopub.status.busy": "2022-10-23T16:22:12.101869Z",
     "iopub.status.idle": "2022-10-23T16:22:13.771874Z",
     "shell.execute_reply": "2022-10-23T16:22:13.770657Z"
    },
    "papermill": {
     "duration": 1.711306,
     "end_time": "2022-10-23T16:22:13.774722",
     "exception": false,
     "start_time": "2022-10-23T16:22:12.063416",
     "status": "completed"
    },
    "tags": []
   },
   "outputs": [],
   "source": [
    "rfc = RandomForestClassifier(n_estimators=100, random_state=seed_value, max_depth=14)\n",
    "rfc.fit(X_train, y_train)\n",
    "y_pred = rfc.predict(X_val)"
   ]
  },
  {
   "cell_type": "code",
   "execution_count": 65,
   "id": "1f4ca368",
   "metadata": {
    "execution": {
     "iopub.execute_input": "2022-10-23T16:22:13.848338Z",
     "iopub.status.busy": "2022-10-23T16:22:13.847498Z",
     "iopub.status.idle": "2022-10-23T16:22:14.012846Z",
     "shell.execute_reply": "2022-10-23T16:22:14.011646Z"
    },
    "papermill": {
     "duration": 0.205063,
     "end_time": "2022-10-23T16:22:14.015420",
     "exception": false,
     "start_time": "2022-10-23T16:22:13.810357",
     "status": "completed"
    },
    "tags": []
   },
   "outputs": [
    {
     "name": "stdout",
     "output_type": "stream",
     "text": [
      "Random Forest accuracy with original features: 0.7791\n",
      "Random Forest recall with original features: 0.7651\n",
      "Random Forest precision with original features: 0.7857\n",
      "Random Forest f1-score with original features: 0.7753\n",
      "Overfitting percentage: 20.29%\n"
     ]
    }
   ],
   "source": [
    "print(\"Random Forest accuracy with original features: {:.4f}\".format(accuracy_score(y_val, y_pred)))\n",
    "print(\"Random Forest recall with original features: {:.4f}\".format(recall_score(y_val, y_pred)))\n",
    "print(\"Random Forest precision with original features: {:.4f}\".format(precision_score(y_val, y_pred)))\n",
    "print(\"Random Forest f1-score with original features: {:.4f}\".format(f1_score(y_val, y_pred)))\n",
    "overfitting = (accuracy_score(y_train, rfc.predict(X_train))/accuracy_score(y_val, y_pred)) - 1\n",
    "print(\"Overfitting percentage: {:.2f}%\".format(overfitting*100))"
   ]
  },
  {
   "cell_type": "code",
   "execution_count": 66,
   "id": "16a83130",
   "metadata": {
    "execution": {
     "iopub.execute_input": "2022-10-23T16:22:14.090581Z",
     "iopub.status.busy": "2022-10-23T16:22:14.090116Z",
     "iopub.status.idle": "2022-10-23T16:22:14.622426Z",
     "shell.execute_reply": "2022-10-23T16:22:14.621187Z"
    },
    "papermill": {
     "duration": 0.573145,
     "end_time": "2022-10-23T16:22:14.625613",
     "exception": false,
     "start_time": "2022-10-23T16:22:14.052468",
     "status": "completed"
    },
    "tags": []
   },
   "outputs": [
    {
     "name": "stderr",
     "output_type": "stream",
     "text": [
      "/opt/conda/lib/python3.7/site-packages/sklearn/utils/deprecation.py:87: FutureWarning: Function plot_confusion_matrix is deprecated; Function `plot_confusion_matrix` is deprecated in 1.0 and will be removed in 1.2. Use one of the class methods: ConfusionMatrixDisplay.from_predictions or ConfusionMatrixDisplay.from_estimator.\n",
      "  warnings.warn(msg, category=FutureWarning)\n"
     ]
    },
    {
     "data": {
      "text/plain": [
       "<sklearn.metrics._plot.confusion_matrix.ConfusionMatrixDisplay at 0x7fa87316af10>"
      ]
     },
     "execution_count": 66,
     "metadata": {},
     "output_type": "execute_result"
    },
    {
     "data": {
      "image/png": "[encoded data removed]",
      "text/plain": [
       "<Figure size 432x288 with 2 Axes>"
      ]
     },
     "metadata": {
      "needs_background": "light"
     },
     "output_type": "display_data"
    }
   ],
   "source": [
    "plot_confusion_matrix(rfc, X_val, y_val)"
   ]
  },
  {
   "cell_type": "markdown",
   "id": "139e5b91",
   "metadata": {
    "papermill": {
     "duration": 0.035526,
     "end_time": "2022-10-23T16:22:14.767848",
     "exception": false,
     "start_time": "2022-10-23T16:22:14.732322",
     "status": "completed"
    },
    "tags": []
   },
   "source": [
    "## Feed Forward Neural Networks"
   ]
  },
  {
   "cell_type": "code",
   "execution_count": 67,
   "id": "983c72ce",
   "metadata": {
    "execution": {
     "iopub.execute_input": "2022-10-23T16:22:14.842198Z",
     "iopub.status.busy": "2022-10-23T16:22:14.841783Z",
     "iopub.status.idle": "2022-10-23T16:22:14.847171Z",
     "shell.execute_reply": "2022-10-23T16:22:14.845972Z"
    },
    "papermill": {
     "duration": 0.045787,
     "end_time": "2022-10-23T16:22:14.849681",
     "exception": false,
     "start_time": "2022-10-23T16:22:14.803894",
     "status": "completed"
    },
    "tags": []
   },
   "outputs": [],
   "source": [
    "set_seed(4720) # IMPORTANT: this guarantees repeatability"
   ]
  },
  {
   "cell_type": "code",
   "execution_count": 68,
   "id": "00c3e7cb",
   "metadata": {
    "execution": {
     "iopub.execute_input": "2022-10-23T16:22:14.923368Z",
     "iopub.status.busy": "2022-10-23T16:22:14.922943Z",
     "iopub.status.idle": "2022-10-23T16:22:14.931981Z",
     "shell.execute_reply": "2022-10-23T16:22:14.930810Z"
    },
    "papermill": {
     "duration": 0.049091,
     "end_time": "2022-10-23T16:22:14.934505",
     "exception": false,
     "start_time": "2022-10-23T16:22:14.885414",
     "status": "completed"
    },
    "tags": []
   },
   "outputs": [],
   "source": [
    "# Function to build the network with Keras\n",
    "\n",
    "def buildNetwork(layers, nodes, regularization=0.0, dropout_factor=0.0):\n",
    "    input_nodes = 6\n",
    "    output_nodes = 1\n",
    "    model = Sequential()\n",
    "    if (dropout_factor > 0.0 and dropout_factor < 1.0):\n",
    "            model.add(Dropout(dropout_factor, input_shape=(input_nodes,)))\n",
    "    model.add(Dense(nodes[0], input_dim=input_nodes, activation='relu')) # add the first layer: from input layer to first layer\n",
    "    for i in range(1, layers):\n",
    "        if (dropout_factor > 0.0 and dropout_factor < 1.0):\n",
    "            model.add(Dropout(dropout_factor, input_shape=(nodes[i-1],)))\n",
    "        model.add(Dense(nodes[i], activation='relu', kernel_regularizer=regularizers.l2(regularization)))\n",
    "    model.add(Dense(output_nodes, activation='sigmoid')) # Important: dropout is not used on the output layer\n",
    "    model.compile(loss='binary_crossentropy', optimizer='adam', metrics=['accuracy']) # training the network\n",
    "    return model"
   ]
  },
  {
   "cell_type": "code",
   "execution_count": 69,
   "id": "99b04879",
   "metadata": {
    "execution": {
     "iopub.execute_input": "2022-10-23T16:22:15.010948Z",
     "iopub.status.busy": "2022-10-23T16:22:15.010502Z",
     "iopub.status.idle": "2022-10-23T16:22:15.042360Z",
     "shell.execute_reply": "2022-10-23T16:22:15.041007Z"
    },
    "papermill": {
     "duration": 0.072895,
     "end_time": "2022-10-23T16:22:15.045014",
     "exception": false,
     "start_time": "2022-10-23T16:22:14.972119",
     "status": "completed"
    },
    "tags": []
   },
   "outputs": [],
   "source": [
    "# To print the neural network\n",
    "\n",
    "def utils_nn_config(model):\n",
    "    lst_layers = []\n",
    "    if \"Sequential\" in str(model): #-> Sequential doesn't show the input layer\n",
    "        layer = model.layers[0]\n",
    "        lst_layers.append({\"name\":\"input\", \"in\":int(layer.input.shape[-1]), \"neurons\":0, \n",
    "                           \"out\":int(layer.input.shape[-1]), \"activation\":None,\n",
    "                           \"params\":0, \"bias\":0})\n",
    "    for layer in model.layers:\n",
    "        try:\n",
    "            dic_layer = {\"name\":layer.name, \"in\":int(layer.input.shape[-1]), \"neurons\":layer.units, \n",
    "                         \"out\":int(layer.output.shape[-1]), \"activation\":layer.get_config()[\"activation\"],\n",
    "                         \"params\":layer.get_weights()[0], \"bias\":layer.get_weights()[1]}\n",
    "        except:\n",
    "            dic_layer = {\"name\":layer.name, \"in\":int(layer.input.shape[-1]), \"neurons\":0, \n",
    "                         \"out\":int(layer.output.shape[-1]), \"activation\":None,\n",
    "                         \"params\":0, \"bias\":0}\n",
    "        lst_layers.append(dic_layer)\n",
    "    return lst_layers\n",
    "\n",
    "\n",
    "'''\n",
    "Plot the structure of a keras neural network.\n",
    "'''\n",
    "def visualize_nn(model, description=False, figsize=(10,8)):\n",
    "    ## get layers info\n",
    "    lst_layers = utils_nn_config(model)\n",
    "    layer_sizes = [layer[\"out\"] for layer in lst_layers]\n",
    "    \n",
    "    ## fig setup\n",
    "    fig = plt.figure(figsize=figsize)\n",
    "    ax = fig.gca()\n",
    "    ax.set(title=model.name)\n",
    "    ax.axis('off')\n",
    "    left, right, bottom, top = 0.1, 0.9, 0.1, 0.9\n",
    "    x_space = (right-left) / float(len(layer_sizes)-1)\n",
    "    y_space = (top-bottom) / float(max(layer_sizes))\n",
    "    p = 0.025\n",
    "    \n",
    "    ## nodes\n",
    "    for i,n in enumerate(layer_sizes):\n",
    "        top_on_layer = y_space*(n-1)/2.0 + (top+bottom)/2.0\n",
    "        layer = lst_layers[i]\n",
    "        color = \"green\" if i in [0, len(layer_sizes)-1] else \"blue\"\n",
    "        color = \"red\" if (layer['neurons'] == 0) and (i > 0) else color\n",
    "        \n",
    "        ### add description\n",
    "        if (description is True):\n",
    "            d = i if i == 0 else i-0.5\n",
    "            if layer['activation'] is None:\n",
    "                plt.text(x=left+d*x_space, y=top, fontsize=10, color=color, s=layer[\"name\"].upper())\n",
    "            else:\n",
    "                plt.text(x=left+d*x_space, y=top, fontsize=10, color=color, s=layer[\"name\"].upper())\n",
    "                plt.text(x=left+d*x_space, y=top-p, fontsize=10, color=color, s=layer['activation']+\" (\")\n",
    "                plt.text(x=left+d*x_space, y=top-2*p, fontsize=10, color=color, s=\"Σ\"+str(layer['in'])+\"[X*w]+b\")\n",
    "                out = \" Y\"  if i == len(layer_sizes)-1 else \" out\"\n",
    "                plt.text(x=left+d*x_space, y=top-3*p, fontsize=10, color=color, s=\") = \"+str(layer['neurons'])+out)\n",
    "        \n",
    "        ### circles\n",
    "        for m in range(n):\n",
    "            color = \"limegreen\" if color == \"green\" else color\n",
    "            circle = plt.Circle(xy=(left+i*x_space, top_on_layer-m*y_space-4*p), radius=y_space/4.0, color=color, ec='k', zorder=4)\n",
    "            ax.add_artist(circle)\n",
    "            \n",
    "            ### add text\n",
    "            if i == 0:\n",
    "                plt.text(x=left-4*p, y=top_on_layer-m*y_space-4*p, fontsize=10, s=r'$X_{'+str(m+1)+'}$')\n",
    "            elif i == len(layer_sizes)-1:\n",
    "                plt.text(x=right+4*p, y=top_on_layer-m*y_space-4*p, fontsize=10, s=r'$y_{'+str(m+1)+'}$')\n",
    "            else:\n",
    "                plt.text(x=left+i*x_space+p, y=top_on_layer-m*y_space+(y_space/8.+0.01*y_space)-4*p, fontsize=10, s=r'$H_{'+str(m+1)+'}$')\n",
    "    \n",
    "    ## links\n",
    "    for i, (n_a, n_b) in enumerate(zip(layer_sizes[:-1], layer_sizes[1:])):\n",
    "        layer = lst_layers[i+1]\n",
    "        color = \"green\" if i == len(layer_sizes)-2 else \"blue\"\n",
    "        color = \"red\" if layer['neurons'] == 0 else color\n",
    "        layer_top_a = y_space*(n_a-1)/2. + (top+bottom)/2. -4*p\n",
    "        layer_top_b = y_space*(n_b-1)/2. + (top+bottom)/2. -4*p\n",
    "        for m in range(n_a):\n",
    "            for o in range(n_b):\n",
    "                line = plt.Line2D([i*x_space+left, (i+1)*x_space+left], \n",
    "                                  [layer_top_a-m*y_space, layer_top_b-o*y_space], \n",
    "                                  c=color, alpha=0.5)\n",
    "                if layer['activation'] is None:\n",
    "                    if o == m:\n",
    "                        ax.add_artist(line)\n",
    "                else:\n",
    "                    ax.add_artist(line)\n",
    "    #plt.savefig('NN.png')\n",
    "    plt.show()"
   ]
  },
  {
   "cell_type": "code",
   "execution_count": 70,
   "id": "0aa9fe1b",
   "metadata": {
    "execution": {
     "iopub.execute_input": "2022-10-23T16:22:15.122063Z",
     "iopub.status.busy": "2022-10-23T16:22:15.121656Z",
     "iopub.status.idle": "2022-10-23T16:22:15.129901Z",
     "shell.execute_reply": "2022-10-23T16:22:15.128561Z"
    },
    "papermill": {
     "duration": 0.049318,
     "end_time": "2022-10-23T16:22:15.132458",
     "exception": false,
     "start_time": "2022-10-23T16:22:15.083140",
     "status": "completed"
    },
    "tags": []
   },
   "outputs": [],
   "source": [
    "# Neural networks architectures: list of [number_of_layers, [nodes]]\n",
    "\n",
    "NN_architecture = [[2, [9, 8]], [2, [8, 7]], [2, [7, 6]], [2, [6, 6]],\n",
    "                   [3, [9, 9, 9]], [3, [9, 9, 8]], [3, [8, 8, 7]], [3, [6, 6, 6]], [3, [6, 6, 5]],\n",
    "                   [4, [9, 9, 8, 8]], [4, [9, 9, 8, 7]], [4, [8, 8, 8, 7]], [4, [7, 7, 7, 6]], [4, [6, 6, 6, 6]]]"
   ]
  },
  {
   "cell_type": "markdown",
   "id": "5dca54b3",
   "metadata": {
    "papermill": {
     "duration": 0.037259,
     "end_time": "2022-10-23T16:22:15.206669",
     "exception": false,
     "start_time": "2022-10-23T16:22:15.169410",
     "status": "completed"
    },
    "tags": []
   },
   "source": [
    "## <font color='red'>HEAVY!!!</font>"
   ]
  },
  {
   "cell_type": "code",
   "execution_count": 71,
   "id": "14f7f9c8",
   "metadata": {
    "execution": {
     "iopub.execute_input": "2022-10-23T16:22:15.286128Z",
     "iopub.status.busy": "2022-10-23T16:22:15.285689Z",
     "iopub.status.idle": "2022-10-23T16:54:25.187105Z",
     "shell.execute_reply": "2022-10-23T16:54:25.185373Z"
    },
    "papermill": {
     "duration": 1929.976752,
     "end_time": "2022-10-23T16:54:25.223420",
     "exception": false,
     "start_time": "2022-10-23T16:22:15.246668",
     "status": "completed"
    },
    "tags": []
   },
   "outputs": [
    {
     "name": "stdout",
     "output_type": "stream",
     "text": [
      "Neural network shape:  2 [9, 8]\n"
     ]
    },
    {
     "name": "stderr",
     "output_type": "stream",
     "text": [
      "2022-10-23 16:22:15.310152: I tensorflow/core/common_runtime/process_util.cc:146] Creating new thread pool with default inter op setting: 2. Tune using inter_op_parallelism_threads for best performance.\n",
      "2022-10-23 16:22:15.508887: I tensorflow/compiler/mlir/mlir_graph_optimization_pass.cc:185] None of the MLIR Optimization Passes are enabled (registered 2)\n"
     ]
    },
    {
     "name": "stdout",
     "output_type": "stream",
     "text": [
      "Epoch 00365: early stopping\n",
      "Accuracy: 0.8523\n",
      "Neural network shape:  2 [8, 7]\n",
      "Epoch 00153: early stopping\n",
      "Accuracy: 0.8294\n",
      "Neural network shape:  2 [7, 6]\n",
      "Epoch 00303: early stopping\n",
      "Accuracy: 0.8353\n",
      "Neural network shape:  2 [6, 6]\n",
      "Epoch 00185: early stopping\n",
      "Accuracy: 0.8190\n",
      "Neural network shape:  3 [9, 9, 9]\n",
      "Epoch 00198: early stopping\n",
      "Accuracy: 0.8458\n",
      "Neural network shape:  3 [9, 9, 8]\n",
      "Epoch 00330: early stopping\n",
      "Accuracy: 0.8477\n",
      "Neural network shape:  3 [8, 8, 7]\n",
      "Epoch 00135: early stopping\n",
      "Accuracy: 0.8281\n",
      "Neural network shape:  3 [6, 6, 6]\n",
      "Epoch 00142: early stopping\n",
      "Accuracy: 0.8229\n",
      "Neural network shape:  3 [6, 6, 5]\n",
      "Epoch 00275: early stopping\n",
      "Accuracy: 0.8301\n",
      "Neural network shape:  4 [9, 9, 8, 8]\n",
      "Epoch 00208: early stopping\n",
      "Accuracy: 0.8444\n",
      "Neural network shape:  4 [9, 9, 8, 7]\n",
      "Epoch 00264: early stopping\n",
      "Accuracy: 0.8412\n",
      "Neural network shape:  4 [8, 8, 8, 7]\n",
      "Epoch 00186: early stopping\n",
      "Accuracy: 0.8320\n",
      "Neural network shape:  4 [7, 7, 7, 6]\n",
      "Epoch 00233: early stopping\n",
      "Accuracy: 0.8366\n",
      "Neural network shape:  4 [6, 6, 6, 6]\n",
      "Epoch 00191: early stopping\n",
      "Accuracy: 0.8425\n"
     ]
    }
   ],
   "source": [
    "# Training of different neural networks with cross validation and early stopping (without regularization and dropout)\n",
    "n_epochs = 5000\n",
    "accuracy = []\n",
    "for shape in NN_architecture:\n",
    "    print(\"Neural network shape: \", shape[0], shape[1])\n",
    "    set_seed(4720)\n",
    "    NN_model = buildNetwork(shape[0], shape[1])\n",
    "    early_stopping = EarlyStopping(monitor='val_accuracy', mode='auto', patience=50, verbose=1)\n",
    "    history = NN_model.fit(X_train, y_train, epochs=n_epochs, batch_size=32, verbose=0, validation_data=(X_val, y_val), callbacks=[early_stopping])\n",
    "    model_accuracy = np.amax(history.history['val_accuracy'])\n",
    "    accuracy.append([shape, model_accuracy])\n",
    "    print(\"Accuracy: {:.4f}\".format(model_accuracy))\n",
    "    #visualize_nn(NN_model)"
   ]
  },
  {
   "cell_type": "code",
   "execution_count": 72,
   "id": "3500563d",
   "metadata": {
    "execution": {
     "iopub.execute_input": "2022-10-23T16:54:25.306054Z",
     "iopub.status.busy": "2022-10-23T16:54:25.305324Z",
     "iopub.status.idle": "2022-10-23T16:54:25.666147Z",
     "shell.execute_reply": "2022-10-23T16:54:25.664684Z"
    },
    "papermill": {
     "duration": 0.405056,
     "end_time": "2022-10-23T16:54:25.668935",
     "exception": false,
     "start_time": "2022-10-23T16:54:25.263879",
     "status": "completed"
    },
    "tags": []
   },
   "outputs": [
    {
     "name": "stdout",
     "output_type": "stream",
     "text": [
      "[0.8522875905036926 0.8294117450714111 0.8352941274642944\n",
      " 0.8189542293548584 0.8457516431808472 0.8477123975753784\n",
      " 0.828104555606842 0.8228757977485657 0.8300653696060181\n",
      " 0.8444444537162781 0.841176450252533 0.8320261240005493\n",
      " 0.8366013169288635 0.842483639717102]\n"
     ]
    },
    {
     "name": "stderr",
     "output_type": "stream",
     "text": [
      "/opt/conda/lib/python3.7/site-packages/ipykernel_launcher.py:1: VisibleDeprecationWarning: Creating an ndarray from ragged nested sequences (which is a list-or-tuple of lists-or-tuples-or ndarrays with different lengths or shapes) is deprecated. If you meant to do this, you must specify 'dtype=object' when creating the ndarray.\n",
      "  \"\"\"Entry point for launching an IPython kernel.\n",
      "/opt/conda/lib/python3.7/site-packages/ipykernel_launcher.py:3: VisibleDeprecationWarning: Creating an ndarray from ragged nested sequences (which is a list-or-tuple of lists-or-tuples-or ndarrays with different lengths or shapes) is deprecated. If you meant to do this, you must specify 'dtype=object' when creating the ndarray.\n",
      "  This is separate from the ipykernel package so we can avoid doing imports until\n",
      "/opt/conda/lib/python3.7/site-packages/ipykernel_launcher.py:4: VisibleDeprecationWarning: Creating an ndarray from ragged nested sequences (which is a list-or-tuple of lists-or-tuples-or ndarrays with different lengths or shapes) is deprecated. If you meant to do this, you must specify 'dtype=object' when creating the ndarray.\n",
      "  after removing the cwd from sys.path.\n"
     ]
    },
    {
     "data": {
      "image/png": "[encoded data removed]",
      "text/plain": [
       "<Figure size 1440x576 with 1 Axes>"
      ]
     },
     "metadata": {
      "needs_background": "light"
     },
     "output_type": "display_data"
    }
   ],
   "source": [
    "print(np.array(accuracy)[:, 1])\n",
    "plt.figure(figsize=(20,8))\n",
    "plt.plot(range(0, len(NN_architecture)), np.array(accuracy)[:, 1])\n",
    "plt.scatter(range(0, len(NN_architecture)), np.array(accuracy)[:, 1])\n",
    "plt.xticks(ticks=range(0, len(NN_architecture)), labels=[j for i, j in NN_architecture])\n",
    "plt.xlabel('Network layout',fontsize=24)\n",
    "plt.grid()"
   ]
  },
  {
   "cell_type": "markdown",
   "id": "61aaade0",
   "metadata": {
    "papermill": {
     "duration": 0.040892,
     "end_time": "2022-10-23T16:54:25.749724",
     "exception": false,
     "start_time": "2022-10-23T16:54:25.708832",
     "status": "completed"
    },
    "tags": []
   },
   "source": [
    "## K-fold Cross Validation"
   ]
  },
  {
   "cell_type": "markdown",
   "id": "fb49817a",
   "metadata": {
    "papermill": {
     "duration": 0.03912,
     "end_time": "2022-10-23T16:54:25.828343",
     "exception": false,
     "start_time": "2022-10-23T16:54:25.789223",
     "status": "completed"
    },
    "tags": []
   },
   "source": [
    "## <font color='red'>HEAVY!!!</font>"
   ]
  },
  {
   "cell_type": "code",
   "execution_count": 73,
   "id": "07435401",
   "metadata": {
    "execution": {
     "iopub.execute_input": "2022-10-23T16:54:25.910725Z",
     "iopub.status.busy": "2022-10-23T16:54:25.909900Z",
     "iopub.status.idle": "2022-10-23T16:57:34.791281Z",
     "shell.execute_reply": "2022-10-23T16:57:34.789323Z"
    },
    "papermill": {
     "duration": 188.92656,
     "end_time": "2022-10-23T16:57:34.794765",
     "exception": false,
     "start_time": "2022-10-23T16:54:25.868205",
     "status": "completed"
    },
    "tags": []
   },
   "outputs": [],
   "source": [
    "# Create the K splits with StratifiedKFold() to preserve the classes ratio in the split\n",
    "cv = StratifiedKFold(n_splits=10, shuffle=True, random_state=seed_value)\n",
    "# Compute the K-fold Cross Validation Accuracy for all the models\n",
    "\n",
    "models = [lr_lin, svm_lin1_w, svm_gauss1_w, rfc]\n",
    "accuracy_list = []\n",
    "for model in models:\n",
    "    scores = cross_val_score(model, X_training_scaled, y_2c_training, scoring='accuracy', cv=cv, n_jobs=-1, error_score='raise')\n",
    "    accuracy_list.append(np.mean(scores))"
   ]
  },
  {
   "cell_type": "code",
   "execution_count": 74,
   "id": "8f1fb492",
   "metadata": {
    "execution": {
     "iopub.execute_input": "2022-10-23T16:57:34.878543Z",
     "iopub.status.busy": "2022-10-23T16:57:34.878084Z",
     "iopub.status.idle": "2022-10-23T17:44:33.516236Z",
     "shell.execute_reply": "2022-10-23T17:44:33.514777Z"
    },
    "papermill": {
     "duration": 2818.724152,
     "end_time": "2022-10-23T17:44:33.561026",
     "exception": false,
     "start_time": "2022-10-23T16:57:34.836874",
     "status": "completed"
    },
    "tags": []
   },
   "outputs": [
    {
     "name": "stdout",
     "output_type": "stream",
     "text": [
      "Neural network shape:  2 [9, 8]\n",
      "Fold =  1\n",
      "Epoch 00220: early stopping\n",
      "Fold =  2\n",
      "Epoch 00240: early stopping\n",
      "Fold =  3\n",
      "Epoch 00158: early stopping\n",
      "Fold =  4\n",
      "Epoch 00116: early stopping\n",
      "Fold =  5\n",
      "Epoch 00151: early stopping\n",
      "Accuracy: 0.8265\n",
      "Neural network shape:  3 [9, 9, 9]\n",
      "Fold =  1\n",
      "Epoch 00189: early stopping\n",
      "Fold =  2\n",
      "Epoch 00252: early stopping\n",
      "Fold =  3\n",
      "Epoch 00321: early stopping\n",
      "Fold =  4\n",
      "Epoch 00232: early stopping\n",
      "Fold =  5\n",
      "Epoch 00218: early stopping\n",
      "Accuracy: 0.8388\n",
      "Neural network shape:  3 [9, 9, 8]\n",
      "Fold =  1\n",
      "Epoch 00274: early stopping\n",
      "Fold =  2\n",
      "Epoch 00360: early stopping\n",
      "Fold =  3\n",
      "Epoch 00125: early stopping\n",
      "Fold =  4\n",
      "Epoch 00264: early stopping\n",
      "Fold =  5\n",
      "Epoch 00149: early stopping\n",
      "Accuracy: 0.8311\n",
      "Neural network shape:  4 [9, 9, 8, 8]\n",
      "Fold =  1\n",
      "Epoch 00445: early stopping\n",
      "Fold =  2\n",
      "Epoch 00229: early stopping\n",
      "Fold =  3\n",
      "Epoch 00143: early stopping\n",
      "Fold =  4\n",
      "Epoch 00397: early stopping\n",
      "Fold =  5\n",
      "Epoch 00312: early stopping\n",
      "Accuracy: 0.8415\n"
     ]
    }
   ],
   "source": [
    "# k-fold cross validation for neural networks (on four best performing network for computational cost reasons)\n",
    "kfold = StratifiedKFold(n_splits=5, shuffle=True, random_state=seed_value)\n",
    "n_epochs = 5000\n",
    "accuracy_list_nn = []\n",
    "NN_best_architecture = [[2, [9, 8]], [3, [9, 9, 9]], [3, [9, 9, 8]], [4, [9, 9, 8, 8]]]\n",
    "for shape in NN_best_architecture:\n",
    "    accuracy_scores = []\n",
    "    print(\"Neural network shape: \", shape[0], shape[1])\n",
    "    fold = 1\n",
    "    for train, val in kfold.split(np.array(X_training_scaled), np.array(y_2c_training)):\n",
    "        print(\"Fold = \", fold)\n",
    "        set_seed(4720)\n",
    "        NN_model = buildNetwork(shape[0], shape[1])\n",
    "        early_stopping = EarlyStopping(monitor='val_accuracy', mode='auto', patience=50, verbose=1)\n",
    "        history = NN_model.fit(np.array(X_training_scaled)[train], np.array(y_2c_training)[train], \n",
    "                                epochs=5000, batch_size=32, verbose=0, \n",
    "                                validation_data=(np.array(X_training_scaled)[val], np.array(y_2c_training)[val]), callbacks=[early_stopping])\n",
    "        model_accuracy = np.amax(history.history['val_accuracy'])\n",
    "        accuracy_scores.append([model_accuracy])\n",
    "        fold += 1\n",
    "    accuracy_list_nn.append(np.mean(accuracy_scores))\n",
    "    print(\"Accuracy: {:.4f}\".format(accuracy_list_nn[-1]))\n"
   ]
  },
  {
   "cell_type": "code",
   "execution_count": 75,
   "id": "6df598c7",
   "metadata": {
    "execution": {
     "iopub.execute_input": "2022-10-23T17:44:33.647267Z",
     "iopub.status.busy": "2022-10-23T17:44:33.645902Z",
     "iopub.status.idle": "2022-10-23T17:44:39.862723Z",
     "shell.execute_reply": "2022-10-23T17:44:39.861465Z"
    },
    "papermill": {
     "duration": 6.263338,
     "end_time": "2022-10-23T17:44:39.865960",
     "exception": false,
     "start_time": "2022-10-23T17:44:33.602622",
     "status": "completed"
    },
    "tags": []
   },
   "outputs": [
    {
     "data": {
      "image/png": "[encoded data removed]",
      "text/plain": [
       "<Figure size 1440x576 with 1 Axes>"
      ]
     },
     "metadata": {
      "needs_background": "light"
     },
     "output_type": "display_data"
    }
   ],
   "source": [
    "model_names = ['Logistic Regression', 'Linear SVM', \n",
    "               'Gaussian SVM', 'Random Forest', 'Deep Neural Network']\n",
    "accuracy_list_with_NN = accuracy_list + [max(accuracy_list_nn)]\n",
    "plt.figure(figsize=(20, 8))\n",
    "plt.bar(model_names, accuracy_list_with_NN, color='green')\n",
    "plt.ylim(0.5, 1.0)\n",
    "plt.yticks(np.arange(0.5, 1.0, 0.025))\n",
    "plt.grid(axis='y')"
   ]
  },
  {
   "cell_type": "code",
   "execution_count": 76,
   "id": "730fe7a5",
   "metadata": {
    "execution": {
     "iopub.execute_input": "2022-10-23T17:44:39.948797Z",
     "iopub.status.busy": "2022-10-23T17:44:39.948363Z",
     "iopub.status.idle": "2022-10-23T17:44:39.955278Z",
     "shell.execute_reply": "2022-10-23T17:44:39.953776Z"
    },
    "papermill": {
     "duration": 0.052164,
     "end_time": "2022-10-23T17:44:39.958798",
     "exception": false,
     "start_time": "2022-10-23T17:44:39.906634",
     "status": "completed"
    },
    "tags": []
   },
   "outputs": [
    {
     "name": "stdout",
     "output_type": "stream",
     "text": [
      "Accuracy of Logistic Regression = 0.6795\n",
      "Accuracy of Linear SVM = 0.6727\n",
      "Accuracy of Gaussian SVM = 0.8172\n",
      "Accuracy of Random Forest = 0.7612\n",
      "Accuracy of Deep Neural Network = 0.8415\n"
     ]
    }
   ],
   "source": [
    "for i, model in enumerate(model_names):\n",
    "    print('Accuracy of ' + str(model) + ' = {:.4f}'.format(accuracy_list_with_NN[i]))"
   ]
  },
  {
   "cell_type": "markdown",
   "id": "a435bf87",
   "metadata": {
    "papermill": {
     "duration": 0.040175,
     "end_time": "2022-10-23T17:44:40.041504",
     "exception": false,
     "start_time": "2022-10-23T17:44:40.001329",
     "status": "completed"
    },
    "tags": []
   },
   "source": [
    "## Testing"
   ]
  },
  {
   "cell_type": "code",
   "execution_count": 77,
   "id": "af94e5b1",
   "metadata": {
    "execution": {
     "iopub.execute_input": "2022-10-23T17:44:40.128181Z",
     "iopub.status.busy": "2022-10-23T17:44:40.126686Z",
     "iopub.status.idle": "2022-10-23T17:46:58.299995Z",
     "shell.execute_reply": "2022-10-23T17:46:58.298496Z"
    },
    "papermill": {
     "duration": 138.220045,
     "end_time": "2022-10-23T17:46:58.302787",
     "exception": false,
     "start_time": "2022-10-23T17:44:40.082742",
     "status": "completed"
    },
    "tags": []
   },
   "outputs": [
    {
     "name": "stdout",
     "output_type": "stream",
     "text": [
      "\n",
      "Epoch 00001: val_accuracy improved from -inf to 0.58105, saving model to DeepNN.hdf5\n",
      "\n",
      "Epoch 00002: val_accuracy improved from 0.58105 to 0.66078, saving model to DeepNN.hdf5\n",
      "\n",
      "Epoch 00003: val_accuracy improved from 0.66078 to 0.69346, saving model to DeepNN.hdf5\n",
      "\n",
      "Epoch 00004: val_accuracy improved from 0.69346 to 0.70719, saving model to DeepNN.hdf5\n",
      "\n",
      "Epoch 00005: val_accuracy did not improve from 0.70719\n",
      "\n",
      "Epoch 00006: val_accuracy did not improve from 0.70719\n",
      "\n",
      "Epoch 00007: val_accuracy improved from 0.70719 to 0.72222, saving model to DeepNN.hdf5\n",
      "\n",
      "Epoch 00008: val_accuracy improved from 0.72222 to 0.72418, saving model to DeepNN.hdf5\n",
      "\n",
      "Epoch 00009: val_accuracy improved from 0.72418 to 0.73137, saving model to DeepNN.hdf5\n",
      "\n",
      "Epoch 00010: val_accuracy improved from 0.73137 to 0.74183, saving model to DeepNN.hdf5\n",
      "\n",
      "Epoch 00011: val_accuracy improved from 0.74183 to 0.74837, saving model to DeepNN.hdf5\n",
      "\n",
      "Epoch 00012: val_accuracy improved from 0.74837 to 0.75098, saving model to DeepNN.hdf5\n",
      "\n",
      "Epoch 00013: val_accuracy improved from 0.75098 to 0.76275, saving model to DeepNN.hdf5\n",
      "\n",
      "Epoch 00014: val_accuracy did not improve from 0.76275\n",
      "\n",
      "Epoch 00015: val_accuracy improved from 0.76275 to 0.76405, saving model to DeepNN.hdf5\n",
      "\n",
      "Epoch 00016: val_accuracy improved from 0.76405 to 0.77124, saving model to DeepNN.hdf5\n",
      "\n",
      "Epoch 00017: val_accuracy improved from 0.77124 to 0.77386, saving model to DeepNN.hdf5\n",
      "\n",
      "Epoch 00018: val_accuracy did not improve from 0.77386\n",
      "\n",
      "Epoch 00019: val_accuracy did not improve from 0.77386\n",
      "\n",
      "Epoch 00020: val_accuracy improved from 0.77386 to 0.77516, saving model to DeepNN.hdf5\n",
      "\n",
      "Epoch 00021: val_accuracy did not improve from 0.77516\n",
      "\n",
      "Epoch 00022: val_accuracy improved from 0.77516 to 0.77778, saving model to DeepNN.hdf5\n",
      "\n",
      "Epoch 00023: val_accuracy did not improve from 0.77778\n",
      "\n",
      "Epoch 00024: val_accuracy did not improve from 0.77778\n",
      "\n",
      "Epoch 00025: val_accuracy improved from 0.77778 to 0.78105, saving model to DeepNN.hdf5\n",
      "\n",
      "Epoch 00026: val_accuracy did not improve from 0.78105\n",
      "\n",
      "Epoch 00027: val_accuracy did not improve from 0.78105\n",
      "\n",
      "Epoch 00028: val_accuracy did not improve from 0.78105\n",
      "\n",
      "Epoch 00029: val_accuracy did not improve from 0.78105\n",
      "\n",
      "Epoch 00030: val_accuracy did not improve from 0.78105\n",
      "\n",
      "Epoch 00031: val_accuracy improved from 0.78105 to 0.78366, saving model to DeepNN.hdf5\n",
      "\n",
      "Epoch 00032: val_accuracy improved from 0.78366 to 0.78562, saving model to DeepNN.hdf5\n",
      "\n",
      "Epoch 00033: val_accuracy did not improve from 0.78562\n",
      "\n",
      "Epoch 00034: val_accuracy improved from 0.78562 to 0.78693, saving model to DeepNN.hdf5\n",
      "\n",
      "Epoch 00035: val_accuracy did not improve from 0.78693\n",
      "\n",
      "Epoch 00036: val_accuracy improved from 0.78693 to 0.79542, saving model to DeepNN.hdf5\n",
      "\n",
      "Epoch 00037: val_accuracy did not improve from 0.79542\n",
      "\n",
      "Epoch 00038: val_accuracy did not improve from 0.79542\n",
      "\n",
      "Epoch 00039: val_accuracy did not improve from 0.79542\n",
      "\n",
      "Epoch 00040: val_accuracy did not improve from 0.79542\n",
      "\n",
      "Epoch 00041: val_accuracy did not improve from 0.79542\n",
      "\n",
      "Epoch 00042: val_accuracy did not improve from 0.79542\n",
      "\n",
      "Epoch 00043: val_accuracy did not improve from 0.79542\n",
      "\n",
      "Epoch 00044: val_accuracy did not improve from 0.79542\n",
      "\n",
      "Epoch 00045: val_accuracy did not improve from 0.79542\n",
      "\n",
      "Epoch 00046: val_accuracy did not improve from 0.79542\n",
      "\n",
      "Epoch 00047: val_accuracy did not improve from 0.79542\n",
      "\n",
      "Epoch 00048: val_accuracy did not improve from 0.79542\n",
      "\n",
      "Epoch 00049: val_accuracy improved from 0.79542 to 0.80131, saving model to DeepNN.hdf5\n",
      "\n",
      "Epoch 00050: val_accuracy improved from 0.80131 to 0.80523, saving model to DeepNN.hdf5\n",
      "\n",
      "Epoch 00051: val_accuracy did not improve from 0.80523\n",
      "\n",
      "Epoch 00052: val_accuracy did not improve from 0.80523\n",
      "\n",
      "Epoch 00053: val_accuracy did not improve from 0.80523\n",
      "\n",
      "Epoch 00054: val_accuracy did not improve from 0.80523\n",
      "\n",
      "Epoch 00055: val_accuracy did not improve from 0.80523\n",
      "\n",
      "Epoch 00056: val_accuracy did not improve from 0.80523\n",
      "\n",
      "Epoch 00057: val_accuracy did not improve from 0.80523\n",
      "\n",
      "Epoch 00058: val_accuracy did not improve from 0.80523\n",
      "\n",
      "Epoch 00059: val_accuracy did not improve from 0.80523\n",
      "\n",
      "Epoch 00060: val_accuracy did not improve from 0.80523\n",
      "\n",
      "Epoch 00061: val_accuracy did not improve from 0.80523\n",
      "\n",
      "Epoch 00062: val_accuracy did not improve from 0.80523\n",
      "\n",
      "Epoch 00063: val_accuracy did not improve from 0.80523\n",
      "\n",
      "Epoch 00064: val_accuracy did not improve from 0.80523\n",
      "\n",
      "Epoch 00065: val_accuracy did not improve from 0.80523\n",
      "\n",
      "Epoch 00066: val_accuracy did not improve from 0.80523\n",
      "\n",
      "Epoch 00067: val_accuracy did not improve from 0.80523\n",
      "\n",
      "Epoch 00068: val_accuracy did not improve from 0.80523\n",
      "\n",
      "Epoch 00069: val_accuracy did not improve from 0.80523\n",
      "\n",
      "Epoch 00070: val_accuracy did not improve from 0.80523\n",
      "\n",
      "Epoch 00071: val_accuracy did not improve from 0.80523\n",
      "\n",
      "Epoch 00072: val_accuracy did not improve from 0.80523\n",
      "\n",
      "Epoch 00073: val_accuracy did not improve from 0.80523\n",
      "\n",
      "Epoch 00074: val_accuracy did not improve from 0.80523\n",
      "\n",
      "Epoch 00075: val_accuracy did not improve from 0.80523\n",
      "\n",
      "Epoch 00076: val_accuracy did not improve from 0.80523\n",
      "\n",
      "Epoch 00077: val_accuracy did not improve from 0.80523\n",
      "\n",
      "Epoch 00078: val_accuracy did not improve from 0.80523\n",
      "\n",
      "Epoch 00079: val_accuracy did not improve from 0.80523\n",
      "\n",
      "Epoch 00080: val_accuracy improved from 0.80523 to 0.80654, saving model to DeepNN.hdf5\n",
      "\n",
      "Epoch 00081: val_accuracy did not improve from 0.80654\n",
      "\n",
      "Epoch 00082: val_accuracy did not improve from 0.80654\n",
      "\n",
      "Epoch 00083: val_accuracy improved from 0.80654 to 0.80980, saving model to DeepNN.hdf5\n",
      "\n",
      "Epoch 00084: val_accuracy did not improve from 0.80980\n",
      "\n",
      "Epoch 00085: val_accuracy improved from 0.80980 to 0.81307, saving model to DeepNN.hdf5\n",
      "\n",
      "Epoch 00086: val_accuracy did not improve from 0.81307\n",
      "\n",
      "Epoch 00087: val_accuracy improved from 0.81307 to 0.81765, saving model to DeepNN.hdf5\n",
      "\n",
      "Epoch 00088: val_accuracy did not improve from 0.81765\n",
      "\n",
      "Epoch 00089: val_accuracy did not improve from 0.81765\n",
      "\n",
      "Epoch 00090: val_accuracy did not improve from 0.81765\n",
      "\n",
      "Epoch 00091: val_accuracy improved from 0.81765 to 0.81830, saving model to DeepNN.hdf5\n",
      "\n",
      "Epoch 00092: val_accuracy did not improve from 0.81830\n",
      "\n",
      "Epoch 00093: val_accuracy did not improve from 0.81830\n",
      "\n",
      "Epoch 00094: val_accuracy did not improve from 0.81830\n",
      "\n",
      "Epoch 00095: val_accuracy did not improve from 0.81830\n",
      "\n",
      "Epoch 00096: val_accuracy did not improve from 0.81830\n",
      "\n",
      "Epoch 00097: val_accuracy improved from 0.81830 to 0.82157, saving model to DeepNN.hdf5\n",
      "\n",
      "Epoch 00098: val_accuracy did not improve from 0.82157\n",
      "\n",
      "Epoch 00099: val_accuracy did not improve from 0.82157\n",
      "\n",
      "Epoch 00100: val_accuracy did not improve from 0.82157\n",
      "\n",
      "Epoch 00101: val_accuracy did not improve from 0.82157\n",
      "\n",
      "Epoch 00102: val_accuracy improved from 0.82157 to 0.82549, saving model to DeepNN.hdf5\n",
      "\n",
      "Epoch 00103: val_accuracy did not improve from 0.82549\n",
      "\n",
      "Epoch 00104: val_accuracy did not improve from 0.82549\n",
      "\n",
      "Epoch 00105: val_accuracy improved from 0.82549 to 0.82614, saving model to DeepNN.hdf5\n",
      "\n",
      "Epoch 00106: val_accuracy did not improve from 0.82614\n",
      "\n",
      "Epoch 00107: val_accuracy did not improve from 0.82614\n",
      "\n",
      "Epoch 00108: val_accuracy did not improve from 0.82614\n",
      "\n",
      "Epoch 00109: val_accuracy improved from 0.82614 to 0.83137, saving model to DeepNN.hdf5\n",
      "\n",
      "Epoch 00110: val_accuracy did not improve from 0.83137\n",
      "\n",
      "Epoch 00111: val_accuracy did not improve from 0.83137\n",
      "\n",
      "Epoch 00112: val_accuracy did not improve from 0.83137\n",
      "\n",
      "Epoch 00113: val_accuracy did not improve from 0.83137\n",
      "\n",
      "Epoch 00114: val_accuracy did not improve from 0.83137\n",
      "\n",
      "Epoch 00115: val_accuracy did not improve from 0.83137\n",
      "\n",
      "Epoch 00116: val_accuracy did not improve from 0.83137\n",
      "\n",
      "Epoch 00117: val_accuracy did not improve from 0.83137\n",
      "\n",
      "Epoch 00118: val_accuracy did not improve from 0.83137\n",
      "\n",
      "Epoch 00119: val_accuracy did not improve from 0.83137\n",
      "\n",
      "Epoch 00120: val_accuracy did not improve from 0.83137\n",
      "\n",
      "Epoch 00121: val_accuracy did not improve from 0.83137\n",
      "\n",
      "Epoch 00122: val_accuracy did not improve from 0.83137\n",
      "\n",
      "Epoch 00123: val_accuracy did not improve from 0.83137\n",
      "\n",
      "Epoch 00124: val_accuracy did not improve from 0.83137\n",
      "\n",
      "Epoch 00125: val_accuracy did not improve from 0.83137\n",
      "\n",
      "Epoch 00126: val_accuracy improved from 0.83137 to 0.83203, saving model to DeepNN.hdf5\n",
      "\n",
      "Epoch 00127: val_accuracy did not improve from 0.83203\n",
      "\n",
      "Epoch 00128: val_accuracy did not improve from 0.83203\n",
      "\n",
      "Epoch 00129: val_accuracy did not improve from 0.83203\n",
      "\n",
      "Epoch 00130: val_accuracy did not improve from 0.83203\n",
      "\n",
      "Epoch 00131: val_accuracy did not improve from 0.83203\n",
      "\n",
      "Epoch 00132: val_accuracy did not improve from 0.83203\n",
      "\n",
      "Epoch 00133: val_accuracy did not improve from 0.83203\n",
      "\n",
      "Epoch 00134: val_accuracy improved from 0.83203 to 0.83399, saving model to DeepNN.hdf5\n",
      "\n",
      "Epoch 00135: val_accuracy did not improve from 0.83399\n",
      "\n",
      "Epoch 00136: val_accuracy did not improve from 0.83399\n",
      "\n",
      "Epoch 00137: val_accuracy did not improve from 0.83399\n",
      "\n",
      "Epoch 00138: val_accuracy did not improve from 0.83399\n",
      "\n",
      "Epoch 00139: val_accuracy improved from 0.83399 to 0.83529, saving model to DeepNN.hdf5\n",
      "\n",
      "Epoch 00140: val_accuracy did not improve from 0.83529\n",
      "\n",
      "Epoch 00141: val_accuracy did not improve from 0.83529\n",
      "\n",
      "Epoch 00142: val_accuracy did not improve from 0.83529\n",
      "\n",
      "Epoch 00143: val_accuracy did not improve from 0.83529\n",
      "\n",
      "Epoch 00144: val_accuracy did not improve from 0.83529\n",
      "\n",
      "Epoch 00145: val_accuracy did not improve from 0.83529\n",
      "\n",
      "Epoch 00146: val_accuracy did not improve from 0.83529\n",
      "\n",
      "Epoch 00147: val_accuracy improved from 0.83529 to 0.83987, saving model to DeepNN.hdf5\n",
      "\n",
      "Epoch 00148: val_accuracy did not improve from 0.83987\n",
      "\n",
      "Epoch 00149: val_accuracy did not improve from 0.83987\n",
      "\n",
      "Epoch 00150: val_accuracy improved from 0.83987 to 0.84183, saving model to DeepNN.hdf5\n",
      "\n",
      "Epoch 00151: val_accuracy did not improve from 0.84183\n",
      "\n",
      "Epoch 00152: val_accuracy did not improve from 0.84183\n",
      "\n",
      "Epoch 00153: val_accuracy did not improve from 0.84183\n",
      "\n",
      "Epoch 00154: val_accuracy did not improve from 0.84183\n",
      "\n",
      "Epoch 00155: val_accuracy did not improve from 0.84183\n",
      "\n",
      "Epoch 00156: val_accuracy did not improve from 0.84183\n",
      "\n",
      "Epoch 00157: val_accuracy did not improve from 0.84183\n",
      "\n",
      "Epoch 00158: val_accuracy improved from 0.84183 to 0.84444, saving model to DeepNN.hdf5\n",
      "\n",
      "Epoch 00159: val_accuracy did not improve from 0.84444\n",
      "\n",
      "Epoch 00160: val_accuracy did not improve from 0.84444\n",
      "\n",
      "Epoch 00161: val_accuracy did not improve from 0.84444\n",
      "\n",
      "Epoch 00162: val_accuracy did not improve from 0.84444\n",
      "\n",
      "Epoch 00163: val_accuracy did not improve from 0.84444\n",
      "\n",
      "Epoch 00164: val_accuracy did not improve from 0.84444\n",
      "\n",
      "Epoch 00165: val_accuracy did not improve from 0.84444\n",
      "\n",
      "Epoch 00166: val_accuracy did not improve from 0.84444\n",
      "\n",
      "Epoch 00167: val_accuracy did not improve from 0.84444\n",
      "\n",
      "Epoch 00168: val_accuracy did not improve from 0.84444\n",
      "\n",
      "Epoch 00169: val_accuracy did not improve from 0.84444\n",
      "\n",
      "Epoch 00170: val_accuracy did not improve from 0.84444\n",
      "\n",
      "Epoch 00171: val_accuracy did not improve from 0.84444\n",
      "\n",
      "Epoch 00172: val_accuracy did not improve from 0.84444\n",
      "\n",
      "Epoch 00173: val_accuracy did not improve from 0.84444\n",
      "\n",
      "Epoch 00174: val_accuracy did not improve from 0.84444\n",
      "\n",
      "Epoch 00175: val_accuracy did not improve from 0.84444\n",
      "\n",
      "Epoch 00176: val_accuracy did not improve from 0.84444\n",
      "\n",
      "Epoch 00177: val_accuracy did not improve from 0.84444\n",
      "\n",
      "Epoch 00178: val_accuracy did not improve from 0.84444\n",
      "\n",
      "Epoch 00179: val_accuracy did not improve from 0.84444\n",
      "\n",
      "Epoch 00180: val_accuracy did not improve from 0.84444\n",
      "\n",
      "Epoch 00181: val_accuracy did not improve from 0.84444\n",
      "\n",
      "Epoch 00182: val_accuracy did not improve from 0.84444\n",
      "\n",
      "Epoch 00183: val_accuracy did not improve from 0.84444\n",
      "\n",
      "Epoch 00184: val_accuracy did not improve from 0.84444\n",
      "\n",
      "Epoch 00185: val_accuracy did not improve from 0.84444\n",
      "\n",
      "Epoch 00186: val_accuracy did not improve from 0.84444\n",
      "\n",
      "Epoch 00187: val_accuracy did not improve from 0.84444\n",
      "\n",
      "Epoch 00188: val_accuracy did not improve from 0.84444\n",
      "\n",
      "Epoch 00189: val_accuracy did not improve from 0.84444\n",
      "\n",
      "Epoch 00190: val_accuracy did not improve from 0.84444\n",
      "\n",
      "Epoch 00191: val_accuracy did not improve from 0.84444\n",
      "\n",
      "Epoch 00192: val_accuracy did not improve from 0.84444\n",
      "\n",
      "Epoch 00193: val_accuracy did not improve from 0.84444\n",
      "\n",
      "Epoch 00194: val_accuracy did not improve from 0.84444\n",
      "\n",
      "Epoch 00195: val_accuracy did not improve from 0.84444\n",
      "\n",
      "Epoch 00196: val_accuracy did not improve from 0.84444\n",
      "\n",
      "Epoch 00197: val_accuracy did not improve from 0.84444\n",
      "\n",
      "Epoch 00198: val_accuracy did not improve from 0.84444\n",
      "\n",
      "Epoch 00199: val_accuracy did not improve from 0.84444\n",
      "\n",
      "Epoch 00200: val_accuracy did not improve from 0.84444\n",
      "\n",
      "Epoch 00201: val_accuracy did not improve from 0.84444\n",
      "\n",
      "Epoch 00202: val_accuracy did not improve from 0.84444\n",
      "\n",
      "Epoch 00203: val_accuracy did not improve from 0.84444\n",
      "\n",
      "Epoch 00204: val_accuracy did not improve from 0.84444\n",
      "\n",
      "Epoch 00205: val_accuracy did not improve from 0.84444\n",
      "\n",
      "Epoch 00206: val_accuracy did not improve from 0.84444\n",
      "\n",
      "Epoch 00207: val_accuracy did not improve from 0.84444\n",
      "\n",
      "Epoch 00208: val_accuracy did not improve from 0.84444\n",
      "Epoch 00208: early stopping\n"
     ]
    },
    {
     "data": {
      "text/plain": [
       "<keras.callbacks.History at 0x7fa8a70ae850>"
      ]
     },
     "execution_count": 77,
     "metadata": {},
     "output_type": "execute_result"
    }
   ],
   "source": [
    "# Best model training\n",
    "from keras.callbacks import ModelCheckpoint\n",
    "set_seed(4720)\n",
    "filepath=\"DeepNN.hdf5\"\n",
    "NN_model = buildNetwork(4, [9, 9, 8, 8])\n",
    "early_stopping = EarlyStopping(monitor='val_accuracy', mode='auto', patience=50, verbose=1)\n",
    "checkpoint = ModelCheckpoint(filepath, monitor='val_accuracy', verbose=1, save_best_only=True, mode='max')\n",
    "NN_model.fit(X_train, y_train, epochs=n_epochs, batch_size=32, verbose=0, \n",
    "                       validation_data=(X_val, y_val), callbacks=[early_stopping, checkpoint])"
   ]
  },
  {
   "cell_type": "code",
   "execution_count": 78,
   "id": "d73101d6",
   "metadata": {
    "execution": {
     "iopub.execute_input": "2022-10-23T17:46:58.413826Z",
     "iopub.status.busy": "2022-10-23T17:46:58.413357Z",
     "iopub.status.idle": "2022-10-23T17:46:58.841495Z",
     "shell.execute_reply": "2022-10-23T17:46:58.840171Z"
    },
    "papermill": {
     "duration": 0.4863,
     "end_time": "2022-10-23T17:46:58.844548",
     "exception": false,
     "start_time": "2022-10-23T17:46:58.358248",
     "status": "completed"
    },
    "tags": []
   },
   "outputs": [
    {
     "name": "stdout",
     "output_type": "stream",
     "text": [
      "Deep NN accuracy: 0.8444\n",
      "Deep NN recall: 0.7835\n",
      "Deep NN precision: 0.8910\n",
      "Deep NN f1-score: 0.8338\n",
      "Overfitting percentage: 10.98%\n"
     ]
    }
   ],
   "source": [
    "NN_model.load_weights(\"DeepNN.hdf5\")\n",
    "y_pred = np.where(NN_model.predict(X_val) < 0.5, 0, 1)\n",
    "print(\"Deep NN accuracy: {:.4f}\".format(accuracy_score(y_val, y_pred)))\n",
    "print(\"Deep NN recall: {:.4f}\".format(recall_score(y_val, y_pred)))\n",
    "print(\"Deep NN precision: {:.4f}\".format(precision_score(y_val, y_pred)))\n",
    "print(\"Deep NN f1-score: {:.4f}\".format(f1_score(y_val, y_pred)))\n",
    "overfitting = (accuracy_score(y_train, rfc.predict(X_train))/accuracy_score(y_val, y_pred)) - 1\n",
    "print(\"Overfitting percentage: {:.2f}%\".format(overfitting*100))"
   ]
  },
  {
   "cell_type": "code",
   "execution_count": 79,
   "id": "52e79334",
   "metadata": {
    "execution": {
     "iopub.execute_input": "2022-10-23T17:46:58.969793Z",
     "iopub.status.busy": "2022-10-23T17:46:58.968929Z",
     "iopub.status.idle": "2022-10-23T17:47:00.562286Z",
     "shell.execute_reply": "2022-10-23T17:47:00.560951Z"
    },
    "papermill": {
     "duration": 1.666889,
     "end_time": "2022-10-23T17:47:00.567770",
     "exception": false,
     "start_time": "2022-10-23T17:46:58.900881",
     "status": "completed"
    },
    "tags": []
   },
   "outputs": [
    {
     "data": {
      "image/png": "[encoded data removed]",
      "text/plain": [
       "<Figure size 720x576 with 1 Axes>"
      ]
     },
     "metadata": {
      "needs_background": "light"
     },
     "output_type": "display_data"
    }
   ],
   "source": [
    "visualize_nn(NN_model)"
   ]
  },
  {
   "cell_type": "code",
   "execution_count": 80,
   "id": "ef7c2606",
   "metadata": {
    "execution": {
     "iopub.execute_input": "2022-10-23T17:47:00.688984Z",
     "iopub.status.busy": "2022-10-23T17:47:00.688524Z",
     "iopub.status.idle": "2022-10-23T17:47:00.847968Z",
     "shell.execute_reply": "2022-10-23T17:47:00.846708Z"
    },
    "papermill": {
     "duration": 0.222573,
     "end_time": "2022-10-23T17:47:00.850809",
     "exception": false,
     "start_time": "2022-10-23T17:47:00.628236",
     "status": "completed"
    },
    "tags": []
   },
   "outputs": [],
   "source": [
    "# Test\n",
    "X_test_scaled = scaler.transform(X_test)\n",
    "y_pred_test = np.where(NN_model.predict(X_test_scaled) < 0.5, 0, 1)"
   ]
  },
  {
   "cell_type": "code",
   "execution_count": 81,
   "id": "9ee4ef2e",
   "metadata": {
    "execution": {
     "iopub.execute_input": "2022-10-23T17:47:00.971195Z",
     "iopub.status.busy": "2022-10-23T17:47:00.970380Z",
     "iopub.status.idle": "2022-10-23T17:47:00.985890Z",
     "shell.execute_reply": "2022-10-23T17:47:00.984396Z"
    },
    "papermill": {
     "duration": 0.077765,
     "end_time": "2022-10-23T17:47:00.988840",
     "exception": false,
     "start_time": "2022-10-23T17:47:00.911075",
     "status": "completed"
    },
    "tags": []
   },
   "outputs": [
    {
     "name": "stdout",
     "output_type": "stream",
     "text": [
      "Test accuracy: 0.8289\n",
      "Test recall: 0.7724\n",
      "Test precision: 0.8678\n",
      "Test f1-score: 0.8173\n"
     ]
    }
   ],
   "source": [
    "print(\"Test accuracy: {:.4f}\".format(accuracy_score(y_2c_test, y_pred_test)))\n",
    "print(\"Test recall: {:.4f}\".format(recall_score(y_2c_test, y_pred_test)))\n",
    "print(\"Test precision: {:.4f}\".format(precision_score(y_2c_test, y_pred_test)))\n",
    "print(\"Test f1-score: {:.4f}\".format(f1_score(y_2c_test, y_pred_test)))"
   ]
  },
  {
   "cell_type": "markdown",
   "id": "0d679f7a",
   "metadata": {},
   "source": []
  }
 ],
 "metadata": {
  "kernelspec": {
   "display_name": "Python 3 (ipykernel)",
   "language": "python",
   "name": "python3"
  },
  "language_info": {
   "codemirror_mode": {
    "name": "ipython",
    "version": 3
   },
   "file_extension": ".py",
   "mimetype": "text/x-python",
   "name": "python",
   "nbconvert_exporter": "python",
   "pygments_lexer": "ipython3",
   "version": "3.9.7"
  },
  "papermill": {
   "default_parameters": {},
   "duration": 6044.397394,
   "end_time": "2022-10-23T17:47:03.680208",
   "environment_variables": {},
   "exception": null,
   "input_path": "__notebook__.ipynb",
   "output_path": "__notebook__.ipynb",
   "parameters": {},
   "start_time": "2022-10-23T16:06:19.282814",
   "version": "2.3.4"
  }
 },
 "nbformat": 4,
 "nbformat_minor": 5
}
